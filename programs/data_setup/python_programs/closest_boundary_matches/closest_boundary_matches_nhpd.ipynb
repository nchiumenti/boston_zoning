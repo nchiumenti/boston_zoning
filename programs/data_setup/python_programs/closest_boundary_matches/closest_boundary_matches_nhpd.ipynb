{
 "cells": [
  {
   "cell_type": "code",
   "execution_count": 1,
   "id": "af0ba61c-3157-420e-94dc-77ab2def8afc",
   "metadata": {
    "execution": {
     "iopub.execute_input": "2022-11-16T15:30:18.590412Z",
     "iopub.status.busy": "2022-11-16T15:30:18.590138Z",
     "iopub.status.idle": "2022-11-16T15:30:18.594007Z",
     "shell.execute_reply": "2022-11-16T15:30:18.593548Z",
     "shell.execute_reply.started": "2022-11-16T15:30:18.590351Z"
    },
    "tags": []
   },
   "outputs": [],
   "source": [
    "################################################################################\n",
    "# File name:    \"closest_boundary_matches_nhpd.ipynb\"\n",
    "#\n",
    "# Project title:    Boston Affordable Housing project (visting scholar porject)\n",
    "#\n",
    "# Description:    This is a version of the original boundary matching file used\n",
    "#                 to match NHPD address points to zoning boundaries. It runs \n",
    "#                 much faster than the original version of this file but does \n",
    "#                 not export a final matches dataset because of inconsistencies \n",
    "#                 between this and the old version. The output of this program\n",
    "#                 is used as input for ./51_nhpd_boundary_matches.do.\n",
    "#\n",
    "# Inputs:    ./zone_assignments_nhpd_export.csv\n",
    "#            ./adm3_crs4269.shp\n",
    "#            ./regulation_types.dta\n",
    "#\n",
    "# Outputs:    ./closest_boundary_matches_nhpd.csv\n",
    "#             ./closest_boundary_matches_nhpd_log.txt\n",
    "#\n",
    "# Created:    11/16/2022\n",
    "# Updated:    11/16/2022\n",
    "#\n",
    "# Author:    Nicholas Chiumenti\n",
    "################################################################################"
   ]
  },
  {
   "cell_type": "code",
   "execution_count": 2,
   "id": "34a2a2ef",
   "metadata": {
    "execution": {
     "iopub.execute_input": "2022-11-16T15:30:18.594857Z",
     "iopub.status.busy": "2022-11-16T15:30:18.594618Z",
     "iopub.status.idle": "2022-11-16T15:30:19.702271Z",
     "shell.execute_reply": "2022-11-16T15:30:19.701301Z",
     "shell.execute_reply.started": "2022-11-16T15:30:18.594838Z"
    },
    "tags": []
   },
   "outputs": [],
   "source": [
    "import os\n",
    "import re\n",
    "import shutil\n",
    "import numpy as np\n",
    "import pandas as pd\n",
    "import geopandas as gpd\n",
    "from datetime import datetime\n",
    "from shapely.geometry import Point, LineString\n",
    "from shapely.ops import nearest_points"
   ]
  },
  {
   "cell_type": "code",
   "execution_count": 3,
   "id": "e12db5de-45c9-41d8-9f98-3105ca5cc8c5",
   "metadata": {
    "execution": {
     "iopub.execute_input": "2022-11-16T15:30:19.704996Z",
     "iopub.status.busy": "2022-11-16T15:30:19.704697Z",
     "iopub.status.idle": "2022-11-16T15:30:19.708961Z",
     "shell.execute_reply": "2022-11-16T15:30:19.708522Z",
     "shell.execute_reply.started": "2022-11-16T15:30:19.704964Z"
    },
    "tags": []
   },
   "outputs": [
    {
     "name": "stdout",
     "output_type": "stream",
     "text": [
      "Running closest_boundary_matches program...\n"
     ]
    }
   ],
   "source": [
    "start_time = datetime.now()\n",
    "print(\"Running closest_boundary_matches program...\")"
   ]
  },
  {
   "cell_type": "markdown",
   "id": "f388a950-fc60-4862-a5bc-51ccf2aff2fd",
   "metadata": {},
   "source": [
    "# Set all data paths"
   ]
  },
  {
   "cell_type": "code",
   "execution_count": 4,
   "id": "73f0bcdd-1e64-460c-b58e-dac45636fb2b",
   "metadata": {
    "execution": {
     "iopub.execute_input": "2022-11-16T15:30:19.709722Z",
     "iopub.status.busy": "2022-11-16T15:30:19.709540Z",
     "iopub.status.idle": "2022-11-16T15:30:19.792422Z",
     "shell.execute_reply": "2022-11-16T15:30:19.792042Z",
     "shell.execute_reply.started": "2022-11-16T15:30:19.709705Z"
    },
    "tags": []
   },
   "outputs": [],
   "source": [
    "data_path = \"/home/a1nfc04/Documents/boston_zoning_sdrive/python_programs/zone_assignments/zone_assignments_nhpd_export.csv\"\n",
    "\n",
    "boundary_path = \"/home/a1nfc04/Documents/boston_zoning_sdrive/data/shapefiles/zoning_boundaries/adm3_crs4269/adm3_crs4269.shp\"\n",
    "\n",
    "reg_path = \"/home/a1nfc04/Documents/boston_zoning_sdrive/data/regulation_data/regulation_types.dta\""
   ]
  },
  {
   "cell_type": "markdown",
   "id": "01076b6a-73ef-44fe-a2be-f7de7eb762cc",
   "metadata": {},
   "source": [
    "# Import data sources"
   ]
  },
  {
   "cell_type": "code",
   "execution_count": 5,
   "id": "943f2358-d6bc-46d7-9c9b-2117454e3c29",
   "metadata": {
    "execution": {
     "iopub.execute_input": "2022-11-16T15:30:19.793432Z",
     "iopub.status.busy": "2022-11-16T15:30:19.793117Z",
     "iopub.status.idle": "2022-11-16T15:30:19.871576Z",
     "shell.execute_reply": "2022-11-16T15:30:19.871152Z",
     "shell.execute_reply.started": "2022-11-16T15:30:19.793415Z"
    },
    "tags": []
   },
   "outputs": [
    {
     "name": "stdout",
     "output_type": "stream",
     "text": [
      "Finished loading regulation file!\n"
     ]
    }
   ],
   "source": [
    "# load in regulatory data\n",
    "regs_df = pd.read_stata(reg_path)\n",
    "\n",
    "regs_df[\"LRID\"] = regs_df[\"LRID\"].astype(int)\n",
    "regs_df[\"LRID\"] = regs_df[\"LRID\"].astype(str)\n",
    "\n",
    "# error check reg data\n",
    "assert len(regs_df) == 7011, \"incorrect number of observations for regulatory data\"\n",
    "\n",
    "print(\"Finished loading regulation file!\")"
   ]
  },
  {
   "cell_type": "code",
   "execution_count": 6,
   "id": "fd1b17b3-0f5c-403e-b84f-9040499cd28b",
   "metadata": {
    "execution": {
     "iopub.execute_input": "2022-11-16T15:30:19.872397Z",
     "iopub.status.busy": "2022-11-16T15:30:19.872221Z",
     "iopub.status.idle": "2022-11-16T15:30:19.978959Z",
     "shell.execute_reply": "2022-11-16T15:30:19.978448Z",
     "shell.execute_reply.started": "2022-11-16T15:30:19.872382Z"
    },
    "tags": []
   },
   "outputs": [
    {
     "name": "stdout",
     "output_type": "stream",
     "text": [
      "Finished loading property file!\n"
     ]
    }
   ],
   "source": [
    "# import zone assignments w/ all columns as string\n",
    "data_df = pd.read_csv(data_path, dtype=str)\n",
    "\n",
    "# trim variables\n",
    "data_df = data_df[[\"nhpd_id\", \n",
    "                   \"cousub_name\", \n",
    "                   \"nhpd_lat\", \n",
    "                   \"nhpd_lon\", \n",
    "                   \"ncessch\", \n",
    "                   \"reg_type\", \n",
    "                   \"zo_usety\", \n",
    "                   \"l_r_fid\"]]\n",
    "\n",
    "# convert dataframe to geodataframe\n",
    "data_gdf = gpd.GeoDataFrame(data_df, \n",
    "                            geometry = gpd.points_from_xy(data_df[\"nhpd_lon\"], data_df[\"nhpd_lat\"]),\n",
    "                            crs = \"EPSG:4269\")\n",
    "\n",
    "mask = (data_gdf[\"ncessch\"].notna()\n",
    "        & data_gdf[\"zo_usety\"].notna() \n",
    "        & data_gdf[\"l_r_fid\"].notna()\n",
    "        & data_gdf[\"reg_type\"].notna())\n",
    "\n",
    "data_gdf = data_gdf[mask]\n",
    "\n",
    "# error checks\n",
    "assert len(data_gdf) == 1238, \"incorrect number of observations in prop_gdf after missings dropped\"\n",
    "assert data_gdf.crs == 4269, \"incorrect crs for prop_gdf\"\n",
    "\n",
    "print(\"Finished loading property file!\")"
   ]
  },
  {
   "cell_type": "code",
   "execution_count": 7,
   "id": "a900bd66-4476-4b49-9d49-9be8e9e8d86b",
   "metadata": {
    "execution": {
     "iopub.execute_input": "2022-11-16T15:30:19.979972Z",
     "iopub.status.busy": "2022-11-16T15:30:19.979770Z",
     "iopub.status.idle": "2022-11-16T15:30:22.285764Z",
     "shell.execute_reply": "2022-11-16T15:30:22.284379Z",
     "shell.execute_reply.started": "2022-11-16T15:30:19.979954Z"
    },
    "tags": []
   },
   "outputs": [
    {
     "name": "stdout",
     "output_type": "stream",
     "text": [
      "Finished loading boundary file!\n"
     ]
    }
   ],
   "source": [
    "# import zoning boundary shape file as geodataframe\n",
    "boundary_gdf = gpd.read_file(boundary_path)\n",
    "\n",
    "# clean up town names\n",
    "boundary_gdf['municipal'] = boundary_gdf['municipal'].str.upper()    \n",
    "boundary_gdf['municipal'].replace({'MARLBOROUGH':'MARLBORO'}, inplace=True)\n",
    "boundary_gdf['municipal'].replace({'FOXBOROUGH':'FOXBORO'}, inplace=True)\n",
    "boundary_gdf['municipal'].replace({'SOUTHBOROUGH':'SOUTHBORO'}, inplace=True)\n",
    "boundary_gdf['municipal'].replace({'BOXBOROUGH':'BOXBORO'}, inplace=True)\n",
    "\n",
    "# create a static unique id\n",
    "boundary_gdf[\"unique_id\"] = boundary_gdf.index\n",
    "\n",
    "# trim variable list\n",
    "boundary_gdf = boundary_gdf[[\"unique_id\",\n",
    "                             \"muni_id\",\n",
    "                             \"municipal\",\n",
    "                             \"ncessch\",\n",
    "                             \"zo_usety\",\n",
    "                             \"LEFT_FID\",\n",
    "                             \"RIGHT_FID\",\n",
    "                             \"geometry\"]]\n",
    "\n",
    "# set ncessch as town name for open enrollment municipalities\n",
    "open_list = [\"ACTON\",\n",
    "             \"BOLTON\",\n",
    "             \"BOSTON\",\n",
    "             \"BOXBORO\",\n",
    "             \"ESSEX\",\n",
    "             \"MANCHESTER\",\n",
    "             \"SAUGUS\",\n",
    "             \"STOW\"]\n",
    "\n",
    "for x in open_list:\n",
    "    boundary_gdf.loc[(boundary_gdf[\"municipal\"] == x), \"ncessch\"] = x\n",
    "\n",
    "# convert matching variables to string\n",
    "boundary_gdf[\"ncessch\"] = boundary_gdf[\"ncessch\"].astype(str)\n",
    "boundary_gdf[\"zo_usety\"] = boundary_gdf[\"zo_usety\"].astype(str)\n",
    "boundary_gdf[\"LEFT_FID\"] = boundary_gdf[\"LEFT_FID\"].astype(str)\n",
    "boundary_gdf[\"RIGHT_FID\"] = boundary_gdf[\"RIGHT_FID\"].astype(str)\n",
    "\n",
    "# error checks\n",
    "assert len(boundary_gdf) == 36151, \"incorrect observation count for boundary_gdf\"\n",
    "assert boundary_gdf.crs == 4269, \"incorrect crs for boundary_gdf\"\n",
    "assert all(boundary_gdf[\"ncessch\"].apply(type) == str), \"ncessch not all string values\"\n",
    "assert all(boundary_gdf[\"zo_usety\"].apply(type) == str), \"zo_usety not all string values\"\n",
    "assert all(boundary_gdf[\"LEFT_FID\"].apply(type) == str), \"LEFT_FID not all string values\"\n",
    "assert all(boundary_gdf[\"RIGHT_FID\"].apply(type) == str), \"RIGHT_FID not all string values\"\n",
    "\n",
    "print(\"Finished loading boundary file!\")"
   ]
  },
  {
   "cell_type": "markdown",
   "id": "fc7166c8-7c30-4656-8a2d-a140f07fc6e3",
   "metadata": {},
   "source": [
    "# Match properties to closest boundaries left/right side or both l/r"
   ]
  },
  {
   "cell_type": "code",
   "execution_count": 8,
   "id": "5c6f034b-adcc-4973-9f2c-46ca9ddca561",
   "metadata": {
    "execution": {
     "iopub.execute_input": "2022-11-16T15:30:22.288158Z",
     "iopub.status.busy": "2022-11-16T15:30:22.287757Z",
     "iopub.status.idle": "2022-11-16T15:30:22.432336Z",
     "shell.execute_reply": "2022-11-16T15:30:22.431684Z",
     "shell.execute_reply.started": "2022-11-16T15:30:22.288128Z"
    },
    "tags": []
   },
   "outputs": [
    {
     "name": "stdout",
     "output_type": "stream",
     "text": [
      "Finished left/right boundary matching!\n"
     ]
    }
   ],
   "source": [
    "# confirm the CRSs are the same\n",
    "assert data_gdf.crs == boundary_gdf.crs, \"crs between data_gdf and boundary_gdf do not match\"\n",
    "\n",
    "# match properties to all possible left side boundaries\n",
    "left_side_matches = data_gdf.merge(boundary_gdf, \n",
    "                                   how=\"inner\",\n",
    "                                   left_on=[\"cousub_name\", \"ncessch\", \"zo_usety\", \"l_r_fid\"],\n",
    "                                   right_on=[\"municipal\", \"ncessch\", \"zo_usety\", \"LEFT_FID\"],\n",
    "                                   indicator=True,\n",
    "                                   suffixes=(\"_x\", \"_fid\")\n",
    "                                  )\n",
    "\n",
    "left_side_matches.rename(columns={\"_merge\" : \"lside_merge\"}, inplace=True)\n",
    "\n",
    "# tag as a left side match\n",
    "left_side_matches.loc[:, \"boundary_side\"] = \"LEFT\"\n",
    "\n",
    "# match properties to all possible right side boundaries\n",
    "right_side_matches = data_gdf.merge(boundary_gdf, \n",
    "                                   how=\"inner\",\n",
    "                                   left_on=[\"cousub_name\", \"ncessch\", \"zo_usety\", \"l_r_fid\"],\n",
    "                                   right_on=[\"municipal\", \"ncessch\", \"zo_usety\", \"RIGHT_FID\"],\n",
    "                                   indicator=True,\n",
    "                                   suffixes=(\"_x\", \"_fid\")\n",
    "                                  )\n",
    "\n",
    "right_side_matches.rename(columns={\"_merge\" : \"rside_merge\"}, inplace=True)\n",
    "\n",
    "# tag as a right side match\n",
    "right_side_matches.loc[:, \"boundary_side\"] = \"RIGHT\"\n",
    "\n",
    "# append the two matched dfs together into one\n",
    "matches_df = pd.concat([left_side_matches, right_side_matches], ignore_index=True)\n",
    "\n",
    "matches_df.loc[matches_df[\"LEFT_FID\"]==matches_df[\"RIGHT_FID\"], \"boundary_side\"] = \"BOTH L&R\"\n",
    "\n",
    "# error checks\n",
    "assert len(matches_df) == 13300, \"incorrect number of observations after left/right match\"\n",
    "assert dict(matches_df[\"boundary_side\"].value_counts()) == {'RIGHT': 7100, 'LEFT': 6110, 'BOTH L&R': 90}, \"incorrect number of left/right/both matches\"\n",
    "\n",
    "print(\"Finished left/right boundary matching!\")"
   ]
  },
  {
   "cell_type": "markdown",
   "id": "81533fe6-eac1-4ec4-8150-60a6e3cda9f5",
   "metadata": {},
   "source": [
    "# Calculate distance to nearest boundary and store nearest point"
   ]
  },
  {
   "cell_type": "code",
   "execution_count": 9,
   "id": "4d833fe3-a586-4561-8e93-f12af82d477f",
   "metadata": {
    "execution": {
     "iopub.execute_input": "2022-11-16T15:30:22.433809Z",
     "iopub.status.busy": "2022-11-16T15:30:22.433330Z",
     "iopub.status.idle": "2022-11-16T15:30:26.104383Z",
     "shell.execute_reply": "2022-11-16T15:30:26.103374Z",
     "shell.execute_reply.started": "2022-11-16T15:30:22.433787Z"
    },
    "tags": []
   },
   "outputs": [
    {
     "name": "stdout",
     "output_type": "stream",
     "text": [
      "13,300 of 13,300 distances calculated\r"
     ]
    }
   ],
   "source": [
    "n=0\n",
    "for i, row in matches_df.iterrows():\n",
    "    \n",
    "    n+=1\n",
    "    \n",
    "    # get the address and boundary geographies\n",
    "    address_point = row[\"geometry_x\"] # the address, point object\n",
    "    boundary_line = row[\"geometry_fid\"] # the boundary, line onject\n",
    "\n",
    "    # return a line from address to the nearest point on boundary\n",
    "    nearest_x, nearest_y = nearest_points(address_point, boundary_line)\n",
    "\n",
    "    matches_df.loc[i, \"nearest_point_dist\"] = nearest_x.distance(nearest_y)    # distance to nearest point on boundary_line\n",
    "    matches_df.loc[i, \"nearest_point_lat\"] = nearest_y.y                     # latitude coordinate of nearest point\n",
    "    matches_df.loc[i, \"nearest_point_lon\"] = nearest_y.x                     # longitude coordinate of nearest point\n",
    "    \n",
    "    print(f\"{n:,} of {len(matches_df):,} distances calculated\", end=\"\\r\")"
   ]
  },
  {
   "cell_type": "code",
   "execution_count": 10,
   "id": "dfa79d54-22ef-4d99-8848-dd577870c3e1",
   "metadata": {
    "execution": {
     "iopub.execute_input": "2022-11-16T15:30:26.106066Z",
     "iopub.status.busy": "2022-11-16T15:30:26.105770Z",
     "iopub.status.idle": "2022-11-16T15:30:26.120066Z",
     "shell.execute_reply": "2022-11-16T15:30:26.119484Z",
     "shell.execute_reply.started": "2022-11-16T15:30:26.106041Z"
    },
    "tags": []
   },
   "outputs": [],
   "source": [
    "save_point = matches_df.copy()\n",
    "# matches_df = save_point.copy()"
   ]
  },
  {
   "cell_type": "markdown",
   "id": "9d7f828f-ce54-451e-a7d3-005e2b26f490",
   "metadata": {},
   "source": [
    "# Keep the closest 5 matches"
   ]
  },
  {
   "cell_type": "code",
   "execution_count": 11,
   "id": "8ed00ef2-ca6f-4f97-9513-0fede411231e",
   "metadata": {
    "execution": {
     "iopub.execute_input": "2022-11-16T15:30:26.121387Z",
     "iopub.status.busy": "2022-11-16T15:30:26.121095Z",
     "iopub.status.idle": "2022-11-16T15:30:26.207401Z",
     "shell.execute_reply": "2022-11-16T15:30:26.206778Z",
     "shell.execute_reply.started": "2022-11-16T15:30:26.121369Z"
    },
    "tags": []
   },
   "outputs": [
    {
     "name": "stdout",
     "output_type": "stream",
     "text": [
      "Finished matching properties to left/right side boundaries!\n"
     ]
    }
   ],
   "source": [
    "# sort by prop_id and distance and unique boundary_id if there is a tie\n",
    "matches_df.sort_values(by=[\"nhpd_id\", \"nearest_point_dist\", \"unique_id\"], ascending=True, inplace=True)\n",
    "\n",
    "# keep the 5 closest matches\n",
    "matches_df = matches_df.groupby(\"nhpd_id\").head(5)\n",
    "\n",
    "# number the matches in order of distance\n",
    "matches_df.loc[:, \"match_num\"] = matches_df.groupby(\"nhpd_id\")[\"nearest_point_dist\"].rank(method=\"first\", ascending=True)\n",
    "\n",
    "# trim to final dataset\n",
    "final_df = matches_df[[\"nhpd_id\",\n",
    "                       \"cousub_name\",\n",
    "                       \"nhpd_lat\",\n",
    "                       \"nhpd_lon\",\n",
    "                       \"reg_type\",\n",
    "                       \"zo_usety\",\n",
    "                       \"l_r_fid\",\n",
    "                       \"unique_id\",\n",
    "                       \"LEFT_FID\",\n",
    "                       \"RIGHT_FID\",\n",
    "                       \"boundary_side\",\n",
    "                       \"nearest_point_dist\",\n",
    "                       \"nearest_point_lat\",\n",
    "                       \"nearest_point_lon\",\n",
    "                       \"match_num\",\n",
    "                       \"lside_merge\",\n",
    "                       \"rside_merge\"]].copy()\n",
    "\n",
    "final_df.sort_index(inplace=True)\n",
    "\n",
    "# error checks\n",
    "assert len(final_df) == 4399\n",
    "assert dict(final_df[\"match_num\"].value_counts()) == {1.0: 1162, 2.0: 1009, 3.0: 875, 4.0: 730, 5.0: 623}\n",
    "assert dict(final_df[\"boundary_side\"].value_counts()) == {'LEFT': 2514, 'RIGHT': 1875, 'BOTH L&R': 10}\n",
    "\n",
    "print(\"Finished matching properties to left/right side boundaries!\")"
   ]
  },
  {
   "cell_type": "markdown",
   "id": "451d25e7-2327-4a84-b539-1a1a8b863784",
   "metadata": {},
   "source": [
    "# Export data and save log"
   ]
  },
  {
   "cell_type": "code",
   "execution_count": 12,
   "id": "2958ca98-f88a-47b2-8959-e6157e7feb77",
   "metadata": {
    "execution": {
     "iopub.execute_input": "2022-11-16T15:30:26.210075Z",
     "iopub.status.busy": "2022-11-16T15:30:26.209881Z",
     "iopub.status.idle": "2022-11-16T15:30:26.357215Z",
     "shell.execute_reply": "2022-11-16T15:30:26.356595Z",
     "shell.execute_reply.started": "2022-11-16T15:30:26.210055Z"
    },
    "tags": []
   },
   "outputs": [
    {
     "name": "stdout",
     "output_type": "stream",
     "text": [
      "Done, 4,399 observations written!\n"
     ]
    }
   ],
   "source": [
    "# set save and log paths\n",
    "log_path = \"/home/a1nfc04/Documents/boston_zoning_sdrive/python_programs/closest_boundary_matches/closest_boundary_matches_nhpd_log.txt\"\n",
    "\n",
    "# save data paths\n",
    "save_file = \"closest_boundary_matches_nhpd.csv\"\n",
    "save_folder = \"/home/a1nfc04/Documents/boston_zoning_sdrive/data/closest_boundary_matches\"\n",
    "save_path = os.path.join(save_folder, save_file)\n",
    "\n",
    "# subdir for old exports\n",
    "old_saves_folder = \"/home/a1nfc04/Documents/boston_zoning_sdrive/data/closest_boundary_matches/old_export_versions\"\n",
    "\n",
    "# check if current save version exists, if so then move it to the old versions folder\n",
    "contents = [item for item in os.listdir(save_folder)]\n",
    "if save_file in contents:\n",
    "\n",
    "    # create previous saves folder is doesn't exist\n",
    "    if os.path.isdir(old_saves_folder) == False:\n",
    "        os.makedirs(old_saves_folder)\n",
    "    \n",
    "    # move file to sub-directory\n",
    "    old_file_path = os.path.join(old_saves_folder, save_file)\n",
    "    shutil.move(save_path, old_file_path)\n",
    "    \n",
    "    # rename the old file with creation date\n",
    "    create_date = datetime.fromtimestamp(os.path.getmtime(old_file_path)).strftime(\"_%Y-%m-%d\")\n",
    "    new_file_name = os.path.splitext(old_file_path)[0] + create_date + \".csv\"   \n",
    "    os.rename(old_file_path, new_file_name)\n",
    "\n",
    "# create log and save date stamps\n",
    "end_time = datetime.now()\n",
    "\n",
    "duration = end_time - start_time\n",
    "\n",
    "duration_in_s = (duration.days * 24 * 60 * 60) + duration.seconds\n",
    "mins, secs = divmod(duration_in_s, 60)\n",
    "hours, mins = divmod(mins, 60)\n",
    "days, hours  = divmod(hours, 24)\n",
    "\n",
    "# save dataset as .csv\n",
    "final_df.to_csv(save_path, index = False)\n",
    "\n",
    "# write to log\n",
    "with open(log_path,'a') as file:\n",
    "    file.write(f\"Last run on {datetime.now().strftime('%D at %I:%M:%S %p')}\\n\")\n",
    "    file.write(f\"{len(final_df):,} observations written to {save_path} \\n\")\n",
    "    file.write(f\"Total run time: {days} days, {hours:02} hours, {mins:02} minutes, {secs:02} seconds \\n\\n\")\n",
    "\n",
    "# Done!\n",
    "print(f\"Done, {len(final_df):,} observations written!\")"
   ]
  },
  {
   "cell_type": "code",
   "execution_count": null,
   "id": "19b64017-3272-4afc-bf72-02ea45803a44",
   "metadata": {},
   "outputs": [],
   "source": []
  }
 ],
 "metadata": {
  "kernelspec": {
   "display_name": "boston_zoning",
   "language": "python",
   "name": "boston_zoning"
  },
  "language_info": {
   "codemirror_mode": {
    "name": "ipython",
    "version": 3
   },
   "file_extension": ".py",
   "mimetype": "text/x-python",
   "name": "python",
   "nbconvert_exporter": "python",
   "pygments_lexer": "ipython3",
   "version": "3.8.3"
  }
 },
 "nbformat": 4,
 "nbformat_minor": 5
}
