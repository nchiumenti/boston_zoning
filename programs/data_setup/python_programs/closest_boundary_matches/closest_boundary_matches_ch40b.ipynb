{
 "cells": [
  {
   "cell_type": "code",
   "execution_count": 1,
   "id": "af0ba61c-3157-420e-94dc-77ab2def8afc",
   "metadata": {
    "execution": {
     "iopub.execute_input": "2022-11-21T16:53:16.269535Z",
     "iopub.status.busy": "2022-11-21T16:53:16.269377Z",
     "iopub.status.idle": "2022-11-21T16:53:16.273034Z",
     "shell.execute_reply": "2022-11-21T16:53:16.272618Z",
     "shell.execute_reply.started": "2022-11-21T16:53:16.269487Z"
    },
    "tags": []
   },
   "outputs": [],
   "source": [
    "################################################################################\n",
    "# File name:    \"closest_boundary_matches_ch40b.ipynb\"\n",
    "#\n",
    "# Project title:    Boston Affordable Housing project (visting scholar porject)\n",
    "#\n",
    "# Description:    This is a version of the original boundary matching file used\n",
    "#                 to match CH40B address points to zoning boundaries. It runs \n",
    "#                 much faster than the original version of this file but does \n",
    "#                 not export a final matches dataset because of inconsistencies \n",
    "#                 between this and the old version. The output of this program\n",
    "#                 is used as input for ./61_ch40b_boundary_matches.do.\n",
    "#\n",
    "# Inputs:    ./zone_assignments_ch40b_export.csv\n",
    "#            ./adm3_crs4269.shp\n",
    "#            ./regulation_types.dta\n",
    "#\n",
    "# Outputs:    ./closest_boundary_matches_ch40b.csv\n",
    "#             ./closest_boundary_matches_ch40b_log.txt\n",
    "#\n",
    "# Created:    11/16/2022\n",
    "# Updated:    11/16/2022\n",
    "#\n",
    "# Author:    Nicholas Chiumenti\n",
    "################################################################################"
   ]
  },
  {
   "cell_type": "code",
   "execution_count": 2,
   "id": "34a2a2ef",
   "metadata": {
    "execution": {
     "iopub.execute_input": "2022-11-21T16:53:16.273909Z",
     "iopub.status.busy": "2022-11-21T16:53:16.273624Z",
     "iopub.status.idle": "2022-11-21T16:53:17.197506Z",
     "shell.execute_reply": "2022-11-21T16:53:17.196850Z",
     "shell.execute_reply.started": "2022-11-21T16:53:16.273892Z"
    },
    "tags": []
   },
   "outputs": [],
   "source": [
    "import os\n",
    "import re\n",
    "import shutil\n",
    "import numpy as np\n",
    "import pandas as pd\n",
    "import geopandas as gpd\n",
    "from datetime import datetime\n",
    "from shapely.geometry import Point, LineString\n",
    "from shapely.ops import nearest_points"
   ]
  },
  {
   "cell_type": "code",
   "execution_count": 3,
   "id": "e12db5de-45c9-41d8-9f98-3105ca5cc8c5",
   "metadata": {
    "execution": {
     "iopub.execute_input": "2022-11-21T16:53:17.199608Z",
     "iopub.status.busy": "2022-11-21T16:53:17.199377Z",
     "iopub.status.idle": "2022-11-21T16:53:17.202984Z",
     "shell.execute_reply": "2022-11-21T16:53:17.202550Z",
     "shell.execute_reply.started": "2022-11-21T16:53:17.199586Z"
    },
    "tags": []
   },
   "outputs": [
    {
     "name": "stdout",
     "output_type": "stream",
     "text": [
      "Running closest_boundary_matches program...\n"
     ]
    }
   ],
   "source": [
    "start_time = datetime.now()\n",
    "print(\"Running closest_boundary_matches program...\")"
   ]
  },
  {
   "cell_type": "markdown",
   "id": "f388a950-fc60-4862-a5bc-51ccf2aff2fd",
   "metadata": {},
   "source": [
    "# Set all data paths"
   ]
  },
  {
   "cell_type": "code",
   "execution_count": 4,
   "id": "73f0bcdd-1e64-460c-b58e-dac45636fb2b",
   "metadata": {
    "execution": {
     "iopub.execute_input": "2022-11-21T16:53:17.203773Z",
     "iopub.status.busy": "2022-11-21T16:53:17.203597Z",
     "iopub.status.idle": "2022-11-21T16:53:17.225818Z",
     "shell.execute_reply": "2022-11-21T16:53:17.225419Z",
     "shell.execute_reply.started": "2022-11-21T16:53:17.203756Z"
    },
    "tags": []
   },
   "outputs": [],
   "source": [
    "data_path = \"/home/a1nfc04/Documents/boston_zoning_sdrive/python_programs/zone_assignments/zone_assignments_ch40b_export.csv\"\n",
    "\n",
    "boundary_path = \"/home/a1nfc04/Documents/boston_zoning_sdrive/data/shapefiles/zoning_boundaries/adm3_crs4269/adm3_crs4269.shp\"\n",
    "\n",
    "reg_path = \"/home/a1nfc04/Documents/boston_zoning_sdrive/data/regulation_data/regulation_types.dta\""
   ]
  },
  {
   "cell_type": "markdown",
   "id": "01076b6a-73ef-44fe-a2be-f7de7eb762cc",
   "metadata": {},
   "source": [
    "# Import data sources"
   ]
  },
  {
   "cell_type": "code",
   "execution_count": 5,
   "id": "943f2358-d6bc-46d7-9c9b-2117454e3c29",
   "metadata": {
    "execution": {
     "iopub.execute_input": "2022-11-21T16:53:17.226603Z",
     "iopub.status.busy": "2022-11-21T16:53:17.226431Z",
     "iopub.status.idle": "2022-11-21T16:53:17.257368Z",
     "shell.execute_reply": "2022-11-21T16:53:17.256938Z",
     "shell.execute_reply.started": "2022-11-21T16:53:17.226587Z"
    },
    "tags": []
   },
   "outputs": [
    {
     "name": "stdout",
     "output_type": "stream",
     "text": [
      "Finished loading regulation file!\n"
     ]
    }
   ],
   "source": [
    "# load in regulatory data\n",
    "regs_df = pd.read_stata(reg_path)\n",
    "\n",
    "regs_df[\"LRID\"] = regs_df[\"LRID\"].astype(int)\n",
    "regs_df[\"LRID\"] = regs_df[\"LRID\"].astype(str)\n",
    "\n",
    "# error check reg data\n",
    "assert len(regs_df) == 7011, \"incorrect number of observations for regulatory data\"\n",
    "\n",
    "print(\"Finished loading regulation file!\")"
   ]
  },
  {
   "cell_type": "code",
   "execution_count": 6,
   "id": "fd1b17b3-0f5c-403e-b84f-9040499cd28b",
   "metadata": {
    "execution": {
     "iopub.execute_input": "2022-11-21T16:53:17.258180Z",
     "iopub.status.busy": "2022-11-21T16:53:17.258005Z",
     "iopub.status.idle": "2022-11-21T16:53:17.336094Z",
     "shell.execute_reply": "2022-11-21T16:53:17.335440Z",
     "shell.execute_reply.started": "2022-11-21T16:53:17.258164Z"
    },
    "tags": []
   },
   "outputs": [
    {
     "name": "stdout",
     "output_type": "stream",
     "text": [
      "Finished loading property file!\n"
     ]
    }
   ],
   "source": [
    "# import zone assignments w/ all columns as string\n",
    "data_df = pd.read_csv(data_path, dtype=str)\n",
    "\n",
    "# trim variables\n",
    "data_df = data_df[[\"unique_id\",\n",
    "                   \"ch40b_id\", \n",
    "                   \"cousub_name\", \n",
    "                   \"ch40b_lat\", \n",
    "                   \"ch40b_lon\", \n",
    "                   \"ncessch\", \n",
    "                   \"reg_type\", \n",
    "                   \"zo_usety\", \n",
    "                   \"l_r_fid\"]]\n",
    "\n",
    "# convert dataframe to geodataframe\n",
    "data_gdf = gpd.GeoDataFrame(data_df, \n",
    "                            geometry = gpd.points_from_xy(data_df[\"ch40b_lon\"], data_df[\"ch40b_lat\"]),\n",
    "                            crs = \"EPSG:4269\")\n",
    "\n",
    "mask = (data_gdf[\"ncessch\"].notna()\n",
    "        & data_gdf[\"zo_usety\"].notna() \n",
    "        & data_gdf[\"l_r_fid\"].notna()\n",
    "        & data_gdf[\"reg_type\"].notna())\n",
    "\n",
    "data_gdf = data_gdf[mask]\n",
    "\n",
    "# error checks\n",
    "assert len(data_gdf) == 1238, \"incorrect number of observations in prop_gdf after missings dropped\"\n",
    "assert data_gdf.crs == 4269, \"incorrect crs for prop_gdf\"\n",
    "\n",
    "print(\"Finished loading property file!\")"
   ]
  },
  {
   "cell_type": "code",
   "execution_count": 7,
   "id": "a900bd66-4476-4b49-9d49-9be8e9e8d86b",
   "metadata": {
    "execution": {
     "iopub.execute_input": "2022-11-21T16:53:17.337348Z",
     "iopub.status.busy": "2022-11-21T16:53:17.337102Z",
     "iopub.status.idle": "2022-11-21T16:53:19.574094Z",
     "shell.execute_reply": "2022-11-21T16:53:19.573436Z",
     "shell.execute_reply.started": "2022-11-21T16:53:17.337327Z"
    },
    "tags": []
   },
   "outputs": [
    {
     "name": "stdout",
     "output_type": "stream",
     "text": [
      "Finished loading boundary file!\n"
     ]
    }
   ],
   "source": [
    "# import zoning boundary shape file as geodataframe\n",
    "boundary_gdf = gpd.read_file(boundary_path)\n",
    "\n",
    "# clean up town names\n",
    "boundary_gdf['municipal'] = boundary_gdf['municipal'].str.upper()    \n",
    "boundary_gdf['municipal'].replace({'MARLBOROUGH':'MARLBORO'}, inplace=True)\n",
    "boundary_gdf['municipal'].replace({'FOXBOROUGH':'FOXBORO'}, inplace=True)\n",
    "boundary_gdf['municipal'].replace({'SOUTHBOROUGH':'SOUTHBORO'}, inplace=True)\n",
    "boundary_gdf['municipal'].replace({'BOXBOROUGH':'BOXBORO'}, inplace=True)\n",
    "\n",
    "# create a static unique id\n",
    "boundary_gdf[\"unique_id\"] = boundary_gdf.index\n",
    "\n",
    "# trim variable list\n",
    "boundary_gdf = boundary_gdf[[\"unique_id\",\n",
    "                             \"muni_id\",\n",
    "                             \"municipal\",\n",
    "                             \"ncessch\",\n",
    "                             \"zo_usety\",\n",
    "                             \"LEFT_FID\",\n",
    "                             \"RIGHT_FID\",\n",
    "                             \"geometry\"]]\n",
    "\n",
    "# set ncessch as town name for open enrollment municipalities\n",
    "open_list = [\"ACTON\",\n",
    "             \"BOLTON\",\n",
    "             \"BOSTON\",\n",
    "             \"BOXBORO\",\n",
    "             \"ESSEX\",\n",
    "             \"MANCHESTER\",\n",
    "             \"SAUGUS\",\n",
    "             \"STOW\"]\n",
    "\n",
    "for x in open_list:\n",
    "    boundary_gdf.loc[(boundary_gdf[\"municipal\"] == x), \"ncessch\"] = x\n",
    "\n",
    "# convert matching variables to string\n",
    "boundary_gdf[\"ncessch\"] = boundary_gdf[\"ncessch\"].astype(str)\n",
    "boundary_gdf[\"zo_usety\"] = boundary_gdf[\"zo_usety\"].astype(str)\n",
    "boundary_gdf[\"LEFT_FID\"] = boundary_gdf[\"LEFT_FID\"].astype(str)\n",
    "boundary_gdf[\"RIGHT_FID\"] = boundary_gdf[\"RIGHT_FID\"].astype(str)\n",
    "\n",
    "# error checks\n",
    "assert len(boundary_gdf) == 36151, \"incorrect observation count for boundary_gdf\"\n",
    "assert boundary_gdf.crs == 4269, \"incorrect crs for boundary_gdf\"\n",
    "assert all(boundary_gdf[\"ncessch\"].apply(type) == str), \"ncessch not all string values\"\n",
    "assert all(boundary_gdf[\"zo_usety\"].apply(type) == str), \"zo_usety not all string values\"\n",
    "assert all(boundary_gdf[\"LEFT_FID\"].apply(type) == str), \"LEFT_FID not all string values\"\n",
    "assert all(boundary_gdf[\"RIGHT_FID\"].apply(type) == str), \"RIGHT_FID not all string values\"\n",
    "\n",
    "print(\"Finished loading boundary file!\")"
   ]
  },
  {
   "cell_type": "markdown",
   "id": "fc7166c8-7c30-4656-8a2d-a140f07fc6e3",
   "metadata": {},
   "source": [
    "# Match properties to closest boundaries left/right side or both l/r"
   ]
  },
  {
   "cell_type": "code",
   "execution_count": 8,
   "id": "5c6f034b-adcc-4973-9f2c-46ca9ddca561",
   "metadata": {
    "execution": {
     "iopub.execute_input": "2022-11-21T16:53:19.575328Z",
     "iopub.status.busy": "2022-11-21T16:53:19.575074Z",
     "iopub.status.idle": "2022-11-21T16:53:19.691475Z",
     "shell.execute_reply": "2022-11-21T16:53:19.690822Z",
     "shell.execute_reply.started": "2022-11-21T16:53:19.575309Z"
    },
    "tags": []
   },
   "outputs": [
    {
     "name": "stdout",
     "output_type": "stream",
     "text": [
      "Finished left/right boundary matching!\n"
     ]
    }
   ],
   "source": [
    "# confirm the CRSs are the same\n",
    "assert data_gdf.crs == boundary_gdf.crs, \"crs between data_gdf and boundary_gdf do not match\"\n",
    "\n",
    "# match properties to all possible left side boundaries\n",
    "left_side_matches = data_gdf.merge(boundary_gdf, \n",
    "                                   how=\"inner\",\n",
    "                                   left_on=[\"cousub_name\", \"ncessch\", \"zo_usety\", \"l_r_fid\"],\n",
    "                                   right_on=[\"municipal\", \"ncessch\", \"zo_usety\", \"LEFT_FID\"],\n",
    "                                   indicator=True,\n",
    "                                   suffixes=(\"_x\", \"_fid\")\n",
    "                                  )\n",
    "\n",
    "left_side_matches.rename(columns={\"_merge\" : \"lside_merge\"}, inplace=True)\n",
    "\n",
    "# tag as a left side match\n",
    "left_side_matches.loc[:, \"boundary_side\"] = \"LEFT\"\n",
    "\n",
    "# match properties to all possible right side boundaries\n",
    "right_side_matches = data_gdf.merge(boundary_gdf, \n",
    "                                   how=\"inner\",\n",
    "                                   left_on=[\"cousub_name\", \"ncessch\", \"zo_usety\", \"l_r_fid\"],\n",
    "                                   right_on=[\"municipal\", \"ncessch\", \"zo_usety\", \"RIGHT_FID\"],\n",
    "                                   indicator=True,\n",
    "                                   suffixes=(\"_x\", \"_fid\")\n",
    "                                  )\n",
    "\n",
    "right_side_matches.rename(columns={\"_merge\" : \"rside_merge\"}, inplace=True)\n",
    "\n",
    "# tag as a right side match\n",
    "right_side_matches.loc[:, \"boundary_side\"] = \"RIGHT\"\n",
    "\n",
    "# append the two matched dfs together into one\n",
    "matches_df = pd.concat([left_side_matches, right_side_matches], ignore_index=True)\n",
    "\n",
    "matches_df.loc[matches_df[\"LEFT_FID\"]==matches_df[\"RIGHT_FID\"], \"boundary_side\"] = \"BOTH L&R\"\n",
    "\n",
    "# error checks\n",
    "assert len(matches_df) == 13392, \"incorrect number of observations after left/right match\"\n",
    "assert dict(matches_df[\"boundary_side\"].value_counts()) == {'RIGHT': 7417, 'LEFT': 5875, 'BOTH L&R': 100}, \"incorrect number of left/right/both matches\"\n",
    "\n",
    "print(\"Finished left/right boundary matching!\")"
   ]
  },
  {
   "cell_type": "markdown",
   "id": "81533fe6-eac1-4ec4-8150-60a6e3cda9f5",
   "metadata": {},
   "source": [
    "# Calculate distance to nearest boundary and store nearest point"
   ]
  },
  {
   "cell_type": "code",
   "execution_count": 9,
   "id": "4d833fe3-a586-4561-8e93-f12af82d477f",
   "metadata": {
    "execution": {
     "iopub.execute_input": "2022-11-21T16:53:19.692481Z",
     "iopub.status.busy": "2022-11-21T16:53:19.692347Z",
     "iopub.status.idle": "2022-11-21T16:53:23.383980Z",
     "shell.execute_reply": "2022-11-21T16:53:23.383399Z",
     "shell.execute_reply.started": "2022-11-21T16:53:19.692465Z"
    },
    "tags": []
   },
   "outputs": [
    {
     "name": "stdout",
     "output_type": "stream",
     "text": [
      "13,392 of 13,392 distances calculated\r"
     ]
    }
   ],
   "source": [
    "n=0\n",
    "for i, row in matches_df.iterrows():\n",
    "    \n",
    "    n+=1\n",
    "    \n",
    "    # get the address and boundary geographies\n",
    "    address_point = row[\"geometry_x\"] # the address, point object\n",
    "    boundary_line = row[\"geometry_fid\"] # the boundary, line onject\n",
    "\n",
    "    # return a line from address to the nearest point on boundary\n",
    "    nearest_x, nearest_y = nearest_points(address_point, boundary_line)\n",
    "\n",
    "    matches_df.loc[i, \"nearest_point_dist\"] = nearest_x.distance(nearest_y)    # distance to nearest point on boundary_line\n",
    "    matches_df.loc[i, \"nearest_point_lat\"] = nearest_y.y                     # latitude coordinate of nearest point\n",
    "    matches_df.loc[i, \"nearest_point_lon\"] = nearest_y.x                     # longitude coordinate of nearest point\n",
    "    \n",
    "    print(f\"{n:,} of {len(matches_df):,} distances calculated\", end=\"\\r\")"
   ]
  },
  {
   "cell_type": "code",
   "execution_count": 10,
   "id": "dfa79d54-22ef-4d99-8848-dd577870c3e1",
   "metadata": {
    "execution": {
     "iopub.execute_input": "2022-11-21T16:53:23.385235Z",
     "iopub.status.busy": "2022-11-21T16:53:23.385011Z",
     "iopub.status.idle": "2022-11-21T16:53:23.387910Z",
     "shell.execute_reply": "2022-11-21T16:53:23.387489Z",
     "shell.execute_reply.started": "2022-11-21T16:53:23.385212Z"
    },
    "tags": []
   },
   "outputs": [],
   "source": [
    "# save_point = matches_df.copy()\n",
    "# matches_df = save_point.copy()"
   ]
  },
  {
   "cell_type": "markdown",
   "id": "9d7f828f-ce54-451e-a7d3-005e2b26f490",
   "metadata": {},
   "source": [
    "# Keep the closest 5 matches"
   ]
  },
  {
   "cell_type": "code",
   "execution_count": 11,
   "id": "8ed00ef2-ca6f-4f97-9513-0fede411231e",
   "metadata": {
    "execution": {
     "iopub.execute_input": "2022-11-21T16:53:23.388765Z",
     "iopub.status.busy": "2022-11-21T16:53:23.388595Z",
     "iopub.status.idle": "2022-11-21T16:53:23.442227Z",
     "shell.execute_reply": "2022-11-21T16:53:23.441755Z",
     "shell.execute_reply.started": "2022-11-21T16:53:23.388748Z"
    },
    "tags": []
   },
   "outputs": [
    {
     "name": "stdout",
     "output_type": "stream",
     "text": [
      "Finished matching properties to left/right side boundaries!\n"
     ]
    }
   ],
   "source": [
    "# sort by prop_id and distance and unique boundary_id if there is a tie\n",
    "matches_df.sort_values(by=[\"unique_id_x\", \"nearest_point_dist\", \"unique_id_fid\"], ascending=True, inplace=True)\n",
    "\n",
    "# keep the 5 closest matches\n",
    "matches_df = matches_df.groupby(\"unique_id_x\").head(5)\n",
    "\n",
    "# number the matches in order of distance\n",
    "matches_df.loc[:, \"match_num\"] = matches_df.groupby(\"unique_id_x\")[\"nearest_point_dist\"].rank(method=\"first\", ascending=True)\n",
    "\n",
    "# trim to final dataset\n",
    "final_df = matches_df[[\"unique_id_x\",\n",
    "                       \"ch40b_id\",\n",
    "                       \"cousub_name\",\n",
    "                       \"ch40b_lat\",\n",
    "                       \"ch40b_lon\",\n",
    "                       \"reg_type\",\n",
    "                       \"zo_usety\",\n",
    "                       \"l_r_fid\",\n",
    "                       \"unique_id_fid\",\n",
    "                       \"LEFT_FID\",\n",
    "                       \"RIGHT_FID\",\n",
    "                       \"boundary_side\",\n",
    "                       \"nearest_point_dist\",\n",
    "                       \"nearest_point_lat\",\n",
    "                       \"nearest_point_lon\",\n",
    "                       \"match_num\",\n",
    "                       \"lside_merge\",\n",
    "                       \"rside_merge\"]].copy()\n",
    "\n",
    "final_df.sort_index(inplace=True)\n",
    "\n",
    "final_df.rename(columns={\"unique_id_x\": \"unique_id\"}, inplace = True)\n",
    "\n",
    "# error checks\n",
    "assert len(final_df) == 4298\n",
    "assert dict(final_df[\"match_num\"].value_counts()) == {1.0: 1133, 2.0: 987, 3.0: 830, 4.0: 727, 5.0: 621}\n",
    "assert dict(final_df[\"boundary_side\"].value_counts()) == {'LEFT': 2342, 'RIGHT': 1944, 'BOTH L&R': 12}\n",
    "\n",
    "print(\"Finished matching properties to left/right side boundaries!\")"
   ]
  },
  {
   "cell_type": "markdown",
   "id": "451d25e7-2327-4a84-b539-1a1a8b863784",
   "metadata": {},
   "source": [
    "# Export data and save log"
   ]
  },
  {
   "cell_type": "code",
   "execution_count": 12,
   "id": "2958ca98-f88a-47b2-8959-e6157e7feb77",
   "metadata": {
    "execution": {
     "iopub.execute_input": "2022-11-21T16:53:23.444261Z",
     "iopub.status.busy": "2022-11-21T16:53:23.444062Z",
     "iopub.status.idle": "2022-11-21T16:53:23.504851Z",
     "shell.execute_reply": "2022-11-21T16:53:23.504392Z",
     "shell.execute_reply.started": "2022-11-21T16:53:23.444243Z"
    },
    "tags": []
   },
   "outputs": [
    {
     "name": "stdout",
     "output_type": "stream",
     "text": [
      "Done, 4,298 observations written!\n"
     ]
    }
   ],
   "source": [
    "# set save and log paths\n",
    "log_path = \"/home/a1nfc04/Documents/boston_zoning_sdrive/python_programs/closest_boundary_matches/closest_boundary_matches_ch40b_log.txt\"\n",
    "\n",
    "# save data paths\n",
    "save_file = \"closest_boundary_matches_ch40b.csv\"\n",
    "save_folder = \"/home/a1nfc04/Documents/boston_zoning_sdrive/data/closest_boundary_matches\"\n",
    "save_path = os.path.join(save_folder, save_file)\n",
    "\n",
    "# subdir for old exports\n",
    "old_saves_folder = \"/home/a1nfc04/Documents/boston_zoning_sdrive/data/closest_boundary_matches/old_export_versions\"\n",
    "\n",
    "# check if current save version exists, if so then move it to the old versions folder\n",
    "contents = [item for item in os.listdir(save_folder)]\n",
    "if save_file in contents:\n",
    "\n",
    "    # create previous saves folder is doesn't exist\n",
    "    if os.path.isdir(old_saves_folder) == False:\n",
    "        os.makedirs(old_saves_folder)\n",
    "    \n",
    "    # move file to sub-directory\n",
    "    old_file_path = os.path.join(old_saves_folder, save_file)\n",
    "    shutil.move(save_path, old_file_path)\n",
    "    \n",
    "    # rename the old file with creation date\n",
    "    create_date = datetime.fromtimestamp(os.path.getmtime(old_file_path)).strftime(\"_%Y-%m-%d\")\n",
    "    new_file_name = os.path.splitext(old_file_path)[0] + create_date + \".csv\"   \n",
    "    os.rename(old_file_path, new_file_name)\n",
    "\n",
    "# create log and save date stamps\n",
    "end_time = datetime.now()\n",
    "\n",
    "duration = end_time - start_time\n",
    "\n",
    "duration_in_s = (duration.days * 24 * 60 * 60) + duration.seconds\n",
    "mins, secs = divmod(duration_in_s, 60)\n",
    "hours, mins = divmod(mins, 60)\n",
    "days, hours  = divmod(hours, 24)\n",
    "\n",
    "# save dataset as .csv\n",
    "final_df.to_csv(save_path, index = False)\n",
    "\n",
    "# write to log\n",
    "with open(log_path,'a') as file:\n",
    "    file.write(f\"Last run on {datetime.now().strftime('%D at %I:%M:%S %p')}\\n\")\n",
    "    file.write(f\"{len(final_df):,} observations written to {save_path} \\n\")\n",
    "    file.write(f\"Total run time: {days} days, {hours:02} hours, {mins:02} minutes, {secs:02} seconds \\n\\n\")\n",
    "\n",
    "# Done!\n",
    "print(f\"Done, {len(final_df):,} observations written!\")"
   ]
  }
 ],
 "metadata": {
  "kernelspec": {
   "display_name": "boston_zoning",
   "language": "python",
   "name": "boston_zoning"
  },
  "language_info": {
   "codemirror_mode": {
    "name": "ipython",
    "version": 3
   },
   "file_extension": ".py",
   "mimetype": "text/x-python",
   "name": "python",
   "nbconvert_exporter": "python",
   "pygments_lexer": "ipython3",
   "version": "3.8.3"
  }
 },
 "nbformat": 4,
 "nbformat_minor": 5
}
