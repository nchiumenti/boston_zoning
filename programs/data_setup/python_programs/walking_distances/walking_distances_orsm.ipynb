{
 "cells": [
  {
   "cell_type": "code",
   "execution_count": 1,
   "id": "dfab9a0f-8fb2-4165-ada7-3da279832c4e",
   "metadata": {
    "execution": {
     "iopub.execute_input": "2022-10-17T20:10:26.567547Z",
     "iopub.status.busy": "2022-10-17T20:10:26.567236Z",
     "iopub.status.idle": "2022-10-17T20:10:26.570556Z",
     "shell.execute_reply": "2022-10-17T20:10:26.570121Z",
     "shell.execute_reply.started": "2022-10-17T20:10:26.567484Z"
    }
   },
   "outputs": [],
   "source": [
    "################################################################################\n",
    "# File name:    \"walking_distances.ipynb\"\n",
    "#\n",
    "# Project title:    Boston Affordable Housing project (visting scholar porject)\n",
    "#\n",
    "# Description:    Calculates the walking distances (in meters) between closest\n",
    "#                 properties to a boundary on either side of a boundary.\n",
    "#\n",
    "# Inputs:    ./effective_distance_inputs.csv\n",
    "#\n",
    "# Outputs:    ./effective_distance_outputs.csv\n",
    "#\n",
    "# Created:    10/17/2022\n",
    "# Updated:    10/17/2022\n",
    "#\n",
    "# Author:    Nicholas Chiumenti\n",
    "################################################################################"
   ]
  },
  {
   "cell_type": "code",
   "execution_count": 2,
   "id": "fb987f26-1078-46da-9b12-a975fedb6f0a",
   "metadata": {
    "execution": {
     "iopub.execute_input": "2022-10-17T20:10:27.386963Z",
     "iopub.status.busy": "2022-10-17T20:10:27.386693Z",
     "iopub.status.idle": "2022-10-17T20:10:32.363877Z",
     "shell.execute_reply": "2022-10-17T20:10:32.363277Z",
     "shell.execute_reply.started": "2022-10-17T20:10:27.386943Z"
    },
    "tags": []
   },
   "outputs": [],
   "source": [
    "import os\n",
    "import requests\n",
    "import time\n",
    "import random\n",
    "import json\n",
    "import pandas as pd\n",
    "from datetime import datetime"
   ]
  },
  {
   "cell_type": "code",
   "execution_count": 3,
   "id": "87da18e1-5568-4dcf-a95e-c5d3866f8477",
   "metadata": {
    "execution": {
     "iopub.execute_input": "2022-10-17T20:10:32.365259Z",
     "iopub.status.busy": "2022-10-17T20:10:32.365037Z",
     "iopub.status.idle": "2022-10-17T20:10:32.368367Z",
     "shell.execute_reply": "2022-10-17T20:10:32.367944Z",
     "shell.execute_reply.started": "2022-10-17T20:10:32.365236Z"
    },
    "tags": []
   },
   "outputs": [
    {
     "name": "stdout",
     "output_type": "stream",
     "text": [
      "Running closest_boundary_no_roads program...\n"
     ]
    }
   ],
   "source": [
    "start_time = datetime.now()\n",
    "print(\"Running closest_boundary_no_roads program...\")"
   ]
  },
  {
   "cell_type": "markdown",
   "id": "f09422f5-f5c3-4da5-bebc-22a7f4e986fd",
   "metadata": {},
   "source": [
    "# Load walking distance output dataset"
   ]
  },
  {
   "cell_type": "code",
   "execution_count": 5,
   "id": "3a6da9c0-ccaa-476c-b7df-559210a96453",
   "metadata": {
    "execution": {
     "iopub.execute_input": "2022-10-17T20:10:51.584232Z",
     "iopub.status.busy": "2022-10-17T20:10:51.583394Z",
     "iopub.status.idle": "2022-10-17T20:10:51.785178Z",
     "shell.execute_reply": "2022-10-17T20:10:51.784590Z",
     "shell.execute_reply.started": "2022-10-17T20:10:51.584206Z"
    },
    "tags": []
   },
   "outputs": [
    {
     "name": "stdout",
     "output_type": "stream",
     "text": [
      "Finished loading input data!\n"
     ]
    }
   ],
   "source": [
    "# define path to input data\n",
    "data_path = \"/home/a1nfc04/Documents/boston_zoning_sdrive/data/walking_distance_inputs.csv\"\n",
    "\n",
    "# import as a dataframe\n",
    "data_df = pd.read_csv(data_path)\n",
    "\n",
    "# error checks\n",
    "assert len(data_df) == 1358, \"Incorrect number of observations in data_df.\"\n",
    "\n",
    "print(\"Finished loading input data!\")"
   ]
  },
  {
   "cell_type": "markdown",
   "id": "07253d83-ba72-4220-b006-b47fa509b3dc",
   "metadata": {},
   "source": [
    "# Calculate walking/effective distance using osmr api"
   ]
  },
  {
   "cell_type": "code",
   "execution_count": 6,
   "id": "46ea47b9-186c-4633-9de0-82ec20f0ab7c",
   "metadata": {
    "execution": {
     "iopub.execute_input": "2022-10-17T20:10:57.906119Z",
     "iopub.status.busy": "2022-10-17T20:10:57.905612Z",
     "iopub.status.idle": "2022-10-17T20:36:28.131685Z",
     "shell.execute_reply": "2022-10-17T20:36:28.131153Z",
     "shell.execute_reply.started": "2022-10-17T20:10:57.906060Z"
    },
    "tags": []
   },
   "outputs": [
    {
     "name": "stdout",
     "output_type": "stream",
     "text": [
      "Finished calculating walking distances!\n"
     ]
    }
   ],
   "source": [
    "# Set Federal Reserve Bank of Boston proxies to get out of our firewall\n",
    "os.environ['https_proxy']=\"p1web4.frb.org:8080\"\n",
    "os.environ['http_proxy']=\"p1web4.frb.org:8080\"\n",
    "\n",
    "# set headers for api\n",
    "headers = {  \"Accept\":\"application/json\",\n",
    "                'Accept-Charset': 'ISO-8859-1,utf-8;q=0.7,*;q=0.3',\n",
    "                \"Accept-Encoding\":\"none\",\n",
    "                \"Accept-Language\":\"en-US,en;q = 0.8\",\n",
    "                \"Connection\":\"keep-alive\",\n",
    "                \"Referer\":\"https://cssspritegenerator.com\",\n",
    "                \"User-Agent\":\"Mozilla/5.0 (X11; Linux x86_64) AppleWebKit/537.11 (KHTML, like Gecko) Chrome/23.0.1271.64 Safari/537.11\"\n",
    "                } \n",
    "\n",
    "# create empty list to store results\n",
    "results = []\n",
    "\n",
    "n = 0\n",
    "\n",
    "for i, row in data_df.iterrows():\n",
    "\n",
    "    boundary_id = row['boundary_using_id']\n",
    "    \n",
    "    # origin point\n",
    "    lon_l = row['warren_longitudeLEFT']\n",
    "    lat_l = row['warren_latitudeLEFT']\n",
    "    \n",
    "    # destination point\n",
    "    lon_r = row['warren_longitudeRIGHT']\n",
    "    lat_r = row['warren_latitudeRIGHT']\n",
    "\n",
    "    # call osrm api\n",
    "    url = (f\"http://router.project-osrm.org/route/v1/foot/{lon_l},{lat_l};{lon_r},{lat_r}?overview=false\")\n",
    "\n",
    "    # unpack results\n",
    "    r = requests.get(url, headers=headers)\n",
    "    \n",
    "    # unpack the response and store in dataframe\n",
    "    if r.status_code == 200:\n",
    "\n",
    "        output = json.loads(r.content)\n",
    "\n",
    "        distance_m = output.get(\"routes\")[0].get(\"distance\")\n",
    "\n",
    "        duration_s = output.get(\"routes\")[0].get(\"duration\")\n",
    "\n",
    "        data_df.loc[i, \"distance_m\"] = distance_m\n",
    "        data_df.loc[i, \"duration_s\"] = duration_s\n",
    "        data_df.loc[i, \"resp_code\"] = r.status_code\n",
    "    \n",
    "    # if response code is not 200, store response code and move on\n",
    "    else:\n",
    "        data_df.loc[i, \"resp_code\"] = r.status_code\n",
    "    \n",
    "    # count observation \n",
    "    n += 1\n",
    "    \n",
    "    print(f\"{n:,} of {len(data_df):,} observations completed\", end=\"\\r\")\n",
    "\n",
    "    # sleep before moving on\n",
    "    time.sleep(random.randrange(1, 2))\n",
    "    \n",
    "# save data to final_df for export\n",
    "final_df = data_df.copy()\n",
    "\n",
    "print(\"Finished calculating walking distances!\")"
   ]
  },
  {
   "cell_type": "markdown",
   "id": "9340570e-041e-42e9-82e7-d372f8f9c672",
   "metadata": {},
   "source": [
    "# Export data and save a log"
   ]
  },
  {
   "cell_type": "code",
   "execution_count": 7,
   "id": "e2c2ff2e-0377-45e2-b37e-2a5b93abd96e",
   "metadata": {
    "execution": {
     "iopub.execute_input": "2022-10-17T20:36:28.132956Z",
     "iopub.status.busy": "2022-10-17T20:36:28.132755Z",
     "iopub.status.idle": "2022-10-17T20:36:28.172224Z",
     "shell.execute_reply": "2022-10-17T20:36:28.171782Z",
     "shell.execute_reply.started": "2022-10-17T20:36:28.132935Z"
    },
    "tags": []
   },
   "outputs": [
    {
     "name": "stdout",
     "output_type": "stream",
     "text": [
      "Done, 1,358 observations written!\n"
     ]
    }
   ],
   "source": [
    "final_df = data_df.copy()\n",
    "# set save and log paths\n",
    "save_path = f\"/home/a1nfc04/Documents/boston_zoning_sdrive/data/walking_distance_outputs.csv\"\n",
    "\n",
    "log_path = \"/home/a1nfc04/Documents/boston_zoning_sdrive/python_programs/walking_distances/walking_distances_orsm_log.txt\"\n",
    "\n",
    "# create log and save date stamps\n",
    "end_time = datetime.now()\n",
    "\n",
    "duration = end_time - start_time\n",
    "\n",
    "duration_in_s = (duration.days * 24 * 60 * 60) + duration.seconds\n",
    "mins, secs = divmod(duration_in_s, 60)\n",
    "hours, mins = divmod(mins, 60)\n",
    "days, hours  = divmod(hours, 24)\n",
    "\n",
    "# save dataset as .csv\n",
    "final_df.to_csv(save_path, index = False)\n",
    "\n",
    "# write to log\n",
    "with open(log_path,'a') as file:\n",
    "    file.write(f\"Last run on {datetime.now().strftime('%D at %I:%M:%S %p')}\\n\")\n",
    "    file.write(f\"{len(final_df):,} observations written to {save_path} \\n\")\n",
    "    file.write(f\"Total run time: {days} days, {hours:02} hours, {mins:02} minutes, {secs:02} seconds \\n\\n\")\n",
    "\n",
    "# Done!\n",
    "print(f\"Done, {len(final_df):,} observations written!\")"
   ]
  },
  {
   "cell_type": "code",
   "execution_count": null,
   "id": "a37600fb-8bf2-48ac-9648-65098b78b6dc",
   "metadata": {},
   "outputs": [],
   "source": []
  }
 ],
 "metadata": {
  "kernelspec": {
   "display_name": "boston_zoning",
   "language": "python",
   "name": "boston_zoning"
  },
  "language_info": {
   "codemirror_mode": {
    "name": "ipython",
    "version": 3
   },
   "file_extension": ".py",
   "mimetype": "text/x-python",
   "name": "python",
   "nbconvert_exporter": "python",
   "pygments_lexer": "ipython3",
   "version": "3.8.3"
  }
 },
 "nbformat": 4,
 "nbformat_minor": 5
}
