{
 "cells": [
  {
   "cell_type": "code",
   "execution_count": 1,
   "metadata": {
    "execution": {
     "iopub.execute_input": "2021-10-20T19:14:35.701510Z",
     "iopub.status.busy": "2021-10-20T19:14:35.701296Z",
     "iopub.status.idle": "2021-10-20T19:14:35.704069Z",
     "shell.execute_reply": "2021-10-20T19:14:35.703567Z",
     "shell.execute_reply.started": "2021-10-20T19:14:35.701456Z"
    }
   },
   "outputs": [],
   "source": [
    "###############################################################################\n",
    "# File name: BatchAddressMatch_final.ipynb\n",
    "#\n",
    "# Description: Takes an exported set of warren group properties from \n",
    "#              geocode_fixes.do that have incorrect lat/lon geocoding and \n",
    "#              uploaded them to the census's geocoder api website, downloads \n",
    "#              the correct lat/lon coordinates and saves it to a new file.\n",
    "#\n",
    "# Inputs: T:\\boston_zoning\\working_paper\\data\\warren\\geocode_fixes\\<various>.txt\n",
    "#\n",
    "# Outputs: T:\\boston_zoning\\working_paper\\data\\warren\\geocode_fixes_<date>.csv\n",
    "#\n",
    "# Author: Nicholas Chiumenti\n",
    "#\n",
    "# Created: 12.01.2020\n",
    "# Last Updated: 2.10.2022\n",
    "###############################################################################"
   ]
  },
  {
   "cell_type": "code",
   "execution_count": 1,
   "metadata": {
    "execution": {
     "iopub.execute_input": "2021-10-20T19:52:25.237808Z",
     "iopub.status.busy": "2021-10-20T19:52:25.237609Z",
     "iopub.status.idle": "2021-10-20T19:52:25.417192Z",
     "shell.execute_reply": "2021-10-20T19:52:25.416211Z",
     "shell.execute_reply.started": "2021-10-20T19:52:25.237760Z"
    },
    "tags": []
   },
   "outputs": [],
   "source": [
    "import os\n",
    "import requests\n",
    "import csv\n",
    "import time"
   ]
  },
  {
   "cell_type": "code",
   "execution_count": 2,
   "metadata": {
    "execution": {
     "iopub.execute_input": "2021-10-20T19:52:25.913140Z",
     "iopub.status.busy": "2021-10-20T19:52:25.912998Z",
     "iopub.status.idle": "2021-10-20T19:52:25.920532Z",
     "shell.execute_reply": "2021-10-20T19:52:25.920064Z",
     "shell.execute_reply.started": "2021-10-20T19:52:25.913123Z"
    },
    "tags": []
   },
   "outputs": [],
   "source": [
    "# defines the file extract function\n",
    "def geocoder_batch(path):\n",
    "    \"Stores the text files of 'path' as a list for uploading to Census GeoCoder.\"\n",
    "    \n",
    "    # define empty list to store file paths\n",
    "    filelist = []\n",
    "\n",
    "    # set working directory\n",
    "    os.chdir(path)\n",
    "    print(f\"Working directory changed to:\\n'{os.getcwd()}'\")\n",
    "\n",
    "    # get contents of working directory\n",
    "    contents = os.listdir(path)\n",
    "    \n",
    "    # for all contents of 'path', use only the .txt files\n",
    "    for i in range(len(contents)):\n",
    "        \n",
    "        # get root and extention as string\n",
    "        root, ext = os.path.splitext(os.path.abspath(contents[i]))\n",
    "        \n",
    "        # if extentension is .txt\n",
    "        if ext == \".txt\":\n",
    "            \n",
    "            # store the file path in the list\n",
    "            file = os.path.abspath(contents[i])\n",
    "            \n",
    "            filelist.append(file)\n",
    "\n",
    "    print(f\"{len(filelist)} files will be uploaded to Census GeoCoder...\")\n",
    "    \n",
    "    return filelist\n",
    "\n",
    "# defintes the api upload function\n",
    "def batch_request(filelist):\n",
    "    \"Iterates 'filelist' uploading to Census GeoCoder and returning matches.\"\n",
    "    \n",
    "    ## local cluster proxy set\n",
    "    # os.environ['http_proxy'] = 'http://p1web4.frb.org:8080'\n",
    "    # os.environ['https_proxy'] = 'http://p1web4.frb.org:8080'\n",
    "    \n",
    "    ## AWS cluster proxy set\n",
    "    # os.environ['http_proxy'] = 'http://10.121.131.6:8080'\n",
    "    # os.environ['https_proxy'] = 'http://10.121.131.6:8080'\n",
    "    \n",
    "    ## JupyterHub Proxy\n",
    "    os.environ[\"https_proxy\"] = \"http://p1proxy.frb.org:8080\"\n",
    "    os.environ[\"http_proxy\"] = \"http://p1proxy.frb.org:8080\"\n",
    "    os.environ[\"no_proxy\"] = \"frb.org,frb.pvt,frb.gov\"\n",
    "\n",
    "    ca_bundle_fp = \"/etc/pki/tls/certs/ca-bundle.crt\"\n",
    "        \n",
    "    ## API url for Census GeoCoder\n",
    "    url = 'https://geocoding.geo.census.gov/geocoder/geographies/addressbatch'\n",
    "    \n",
    "    ## Specify parameters for geocode matching\n",
    "    payload = {'benchmark':'Public_AR_Current','vintage':'Census2010_Current'}\n",
    "    \n",
    "    matches = \"\"\n",
    "    \n",
    "    ## Iterates over filelist uploading to GeoCoder\n",
    "    for i in range(len(filelist)):\n",
    "        \n",
    "        start_time = time.time()\n",
    "\n",
    "        print(f\"Uploading {i+1} of {len(filelist)}: '{os.path.basename(filelist[i])}'...\")\n",
    "\n",
    "        files = {'addressFile': (filelist[i], open(filelist[i], 'rb')),}\n",
    "\n",
    "        # r = requests.post(url, files=files, data = payload) # non-JupyterHub version\n",
    "        r = requests.post(url, files=files, data = payload, verify = ca_bundle_fp) # JupyterHub version\n",
    "\n",
    "        matches = matches + r.text\n",
    "        \n",
    "        time.sleep(3)\n",
    "        \n",
    "        end_time = time.time()\n",
    "        \n",
    "        minutes, seconds = divmod(end_time-start_time,60)\n",
    "        \n",
    "        print(f\" {int(minutes)} minutes {int(seconds)} seconds elapsed\")\n",
    "    \n",
    "    ## Returns a string of matches from all files\n",
    "    return matches\n",
    "\n",
    "# defines the save .csv file function\n",
    "def csv_export(matches):\n",
    "    \"Saves matches as a date stamped CSV file.\"\n",
    "    \n",
    "    Matches = matches\n",
    "    \n",
    "    ## CSV variable headers\n",
    "    Headers = [\"RECORD ID NUMBER\",\"INPUT ADDRESS\",\"TIGER ADDRESS RANGE MATCH INDICATOR\", \\\n",
    "               \"TIGER MATCH TYPE\",\"TIGER OUTPUT ADDRESS\",\"INTERPOLATED LONGITUDE AND LATITUDE\", \\\n",
    "               \"TIGERLINE ID\",\"TIGERLINE ID SIDE\",\"STATE CODE\", \\\n",
    "               \"COUNTY CODE\",\"TRACT CODE\",\"BLOCK CODE\"]\n",
    "        \n",
    "    DateStamp = time.strftime(\"%Y%m%d\")\n",
    "    \n",
    "    Data = [i for i in Matches.split(\"\\n\")]\n",
    "    \n",
    "    with open(f'/home/a1nfc04/python_projects/census_geocoder_api/geocoder_export_{DateStamp}.csv', 'w',newline='') as csvfile:\n",
    "        csvwriter = csv.writer(csvfile)\n",
    "        \n",
    "        csvwriter.writerow(Headers)\n",
    "        \n",
    "        csvwriter.writerows(csv.reader(Data))\n",
    "        \n",
    "    print(\"finished!\")"
   ]
  },
  {
   "cell_type": "markdown",
   "metadata": {},
   "source": [
    "# The below cells run each function individually starting with geocoder_batch()"
   ]
  },
  {
   "cell_type": "markdown",
   "metadata": {},
   "source": [
    "## Listing the upload files using geocoder_batch()"
   ]
  },
  {
   "cell_type": "code",
   "execution_count": 4,
   "metadata": {
    "execution": {
     "iopub.execute_input": "2021-10-20T19:14:51.185019Z",
     "iopub.status.busy": "2021-10-20T19:14:51.184814Z",
     "iopub.status.idle": "2021-10-20T19:14:51.190103Z",
     "shell.execute_reply": "2021-10-20T19:14:51.189559Z",
     "shell.execute_reply.started": "2021-10-20T19:14:51.184997Z"
    }
   },
   "outputs": [
    {
     "name": "stdout",
     "output_type": "stream",
     "text": [
      "Working directory changed to:\n",
      "'/home/home03/a1nfc04/python_projects/census_geocoder_api/address_files'\n",
      "16 files will be uploaded to Census GeoCoder...\n",
      "address_corrections_12.txt\n",
      "address_corrections_05.txt\n",
      "address_corrections_09.txt\n",
      "address_corrections_16.txt\n",
      "address_corrections_10.txt\n",
      "address_corrections_06.txt\n",
      "address_corrections_08.txt\n",
      "address_corrections_02.txt\n",
      "address_corrections_04.txt\n",
      "address_corrections_01.txt\n",
      "address_corrections_14.txt\n",
      "address_corrections_15.txt\n",
      "address_corrections_13.txt\n",
      "address_corrections_11.txt\n",
      "address_corrections_07.txt\n",
      "address_corrections_03.txt\n"
     ]
    }
   ],
   "source": [
    "path = \"/home/a1nfc04/python_projects/census_geocoder_api/address_files\"\n",
    "filelist = geocoder_batch(path)\n",
    "\n",
    "for i in range(len(filelist)):\n",
    "    print(os.path.basename(filelist[i]))"
   ]
  },
  {
   "cell_type": "markdown",
   "metadata": {},
   "source": [
    "## Batch upload a bunch of files and return 1 .csv file"
   ]
  },
  {
   "cell_type": "code",
   "execution_count": null,
   "metadata": {},
   "outputs": [],
   "source": [
    "%%time\n",
    "\n",
    "path = \"/home/a1nfc04/local_to_aws/Python_Projects/census_geocoder_api/address_files\"\n",
    "\n",
    "filelist = geocoder_batch(path)\n",
    "\n",
    "matches = batch_request(filelist)\n",
    "\n",
    "csv_export(matches)"
   ]
  },
  {
   "cell_type": "markdown",
   "metadata": {},
   "source": [
    "# Running this program on the CH40B properties .csv file "
   ]
  },
  {
   "cell_type": "code",
   "execution_count": 5,
   "metadata": {
    "execution": {
     "iopub.execute_input": "2021-10-20T19:52:53.463776Z",
     "iopub.status.busy": "2021-10-20T19:52:53.463531Z",
     "iopub.status.idle": "2021-10-20T20:17:54.538059Z",
     "shell.execute_reply": "2021-10-20T20:17:54.537638Z",
     "shell.execute_reply.started": "2021-10-20T19:52:53.463753Z"
    },
    "tags": []
   },
   "outputs": [
    {
     "name": "stdout",
     "output_type": "stream",
     "text": [
      "Uploading 1 of 1: 'chapter40b_geocode_inputs_20211020.csv'...\n",
      " 25 minutes 1 seconds elapsed\n",
      "finished!\n",
      "CPU times: user 58.4 ms, sys: 34.7 ms, total: 93.1 ms\n",
      "Wall time: 25min 1s\n"
     ]
    }
   ],
   "source": [
    "%%time\n",
    "\n",
    "## specify the correct file\n",
    "filelist = [\"/home/a1nfc04/python_projects/census_geocoder_api/address_files/chapter40b_geocode_inputs_20211020.csv\"]\n",
    "\n",
    "## upload to get geocodes\n",
    "matches = batch_request(filelist)\n",
    "\n",
    "# export matches as a csv\n",
    "csv_export(matches)"
   ]
  }
 ],
 "metadata": {
  "kernelspec": {
   "display_name": "Python 3",
   "language": "python",
   "name": "python3"
  },
  "language_info": {
   "codemirror_mode": {
    "name": "ipython",
    "version": 3
   },
   "file_extension": ".py",
   "mimetype": "text/x-python",
   "name": "python",
   "nbconvert_exporter": "python",
   "pygments_lexer": "ipython3",
   "version": "3.6.8"
  }
 },
 "nbformat": 4,
 "nbformat_minor": 4
}
