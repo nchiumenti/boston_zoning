{
 "cells": [
  {
   "cell_type": "code",
   "execution_count": 1,
   "id": "d1e74dbc-1eed-448c-84da-08927565fd81",
   "metadata": {
    "execution": {
     "iopub.execute_input": "2022-09-27T15:28:45.733852Z",
     "iopub.status.busy": "2022-09-27T15:28:45.733515Z",
     "iopub.status.idle": "2022-09-27T15:28:45.736900Z",
     "shell.execute_reply": "2022-09-27T15:28:45.736489Z",
     "shell.execute_reply.started": "2022-09-27T15:28:45.733800Z"
    },
    "tags": []
   },
   "outputs": [],
   "source": [
    "################################################################################\n",
    "# File name:    \"soil_quality_matching.ipynb\"\n",
    "#\n",
    "# Project title:    Boston Affordable Housing project (visting scholar porject)\n",
    "#\n",
    "# Description:    This file takes the soil quality data .shp file created by \n",
    "#                 Jordan and matches onto it our dataset of mapc warren group\n",
    "#                 properties.\n",
    "#\n",
    "# Inputs:    ./Soil_Parcel_Data_shape.shp\n",
    "#            ./warren_MAPC_all_unique.dta\n",
    "#\n",
    "# Outputs:    <various>\n",
    "#\n",
    "# Created:    09/23/2022\n",
    "# Updated:    09/23/2022\n",
    "#\n",
    "# Author:    Nicholas Chiumenti\n",
    "################################################################################"
   ]
  },
  {
   "cell_type": "code",
   "execution_count": 2,
   "id": "766e621f-37e9-45c8-889c-77f90a47077f",
   "metadata": {
    "execution": {
     "iopub.execute_input": "2022-09-27T15:28:45.737760Z",
     "iopub.status.busy": "2022-09-27T15:28:45.737475Z",
     "iopub.status.idle": "2022-09-27T15:28:45.756668Z",
     "shell.execute_reply": "2022-09-27T15:28:45.756260Z",
     "shell.execute_reply.started": "2022-09-27T15:28:45.737744Z"
    }
   },
   "outputs": [],
   "source": [
    "# 1. load in soil quality shape file\n",
    "# 2. load in warren property points\n",
    "# 3. define both as a geopandas data frame with geomtetry variable\n",
    "# 4. match a sample of 10,000\n",
    "# 5. try to figure out if there are any dupclicates\n",
    "\n",
    "# https://pandas.pydata.org/docs/\n",
    "# https://geopandas.org/en/stable/docs/user_guide.html"
   ]
  },
  {
   "cell_type": "code",
   "execution_count": 1,
   "id": "67d6c656-30e9-495f-a219-e912872d1447",
   "metadata": {
    "execution": {
     "iopub.execute_input": "2022-09-30T15:06:04.870762Z",
     "iopub.status.busy": "2022-09-30T15:06:04.870446Z",
     "iopub.status.idle": "2022-09-30T15:06:06.176425Z",
     "shell.execute_reply": "2022-09-30T15:06:06.175837Z",
     "shell.execute_reply.started": "2022-09-30T15:06:04.870686Z"
    },
    "tags": []
   },
   "outputs": [],
   "source": [
    "import datetime\n",
    "import pandas as pd\n",
    "import geopandas as gpd\n",
    "import numpy as np"
   ]
  },
  {
   "cell_type": "code",
   "execution_count": 2,
   "id": "f2b7813f-6065-4621-b6d6-2362655bc935",
   "metadata": {
    "execution": {
     "iopub.execute_input": "2022-09-30T15:06:08.940985Z",
     "iopub.status.busy": "2022-09-30T15:06:08.940690Z",
     "iopub.status.idle": "2022-09-30T15:08:37.371776Z",
     "shell.execute_reply": "2022-09-30T15:08:37.371296Z",
     "shell.execute_reply.started": "2022-09-30T15:06:08.940962Z"
    },
    "tags": []
   },
   "outputs": [
    {
     "name": "stdout",
     "output_type": "stream",
     "text": [
      "total shapes in shape file 1871216\n",
      "total address points in file 821237\n"
     ]
    }
   ],
   "source": [
    "## load soil quality shapefile\n",
    "# define paths\n",
    "shape_path = \"/home/a1nfc04/Documents/boston_zoning_sdrive/data/shapefiles/soil_quality/Soil_Parcel_Data_Shape.shp\"\n",
    "data_path = \"/home/a1nfc04/Documents/boston_zoning_sdrive/data/warren/warren_MAPC_all_unique.dta\"\n",
    "\n",
    "# load in the soil quality shapefile\n",
    "shape_gdf = gpd.read_file(shape_path)\n",
    "\n",
    "assert len(shape_gdf) == 1871216 # confirm num of shapes\n",
    "\n",
    "print(f\"total shapes in shape file {len(shape_gdf)}\")\n",
    "\n",
    "## load in warren group address points\n",
    "data_df = pd.read_stata(data_path)\n",
    "\n",
    "data_df = data_df[[\"prop_id\", \"cousub_name\", \"warren_latitude\", \"warren_longitude\"]]\n",
    "\n",
    "# define as a geo dataframe\n",
    "data_gdf = gpd.GeoDataFrame(data_df, geometry = gpd.points_from_xy(data_df.warren_longitude, data_df.warren_latitude))\n",
    "\n",
    "# set initial crs as epsg-4269 to match the adm3 file\n",
    "data_gdf.set_crs(\"EPSG:4269\", inplace=True)\n",
    "\n",
    "# convert to epsg:26986\n",
    "data_gdf.to_crs(\"EPSG:26986\", inplace=True)\n",
    "\n",
    "assert len(data_gdf) == 821237 # confirm num of address points\n",
    "\n",
    "print(f\"total address points in file {len(data_gdf)}\")\n",
    "\n",
    "assert shape_gdf.crs == data_gdf.crs"
   ]
  },
  {
   "cell_type": "code",
   "execution_count": 5,
   "id": "2717bdd3-f20c-4a1b-aa98-8f3b7e958bd5",
   "metadata": {
    "execution": {
     "iopub.execute_input": "2022-09-27T15:31:18.201261Z",
     "iopub.status.busy": "2022-09-27T15:31:18.201073Z",
     "iopub.status.idle": "2022-09-27T15:32:00.390449Z",
     "shell.execute_reply": "2022-09-27T15:32:00.389855Z",
     "shell.execute_reply.started": "2022-09-27T15:31:18.201242Z"
    },
    "tags": []
   },
   "outputs": [],
   "source": [
    "## drop duplicate polygons\n",
    "# LOC_ID unique identifies polygons\n",
    "assert len(shape_gdf.LOC_ID.unique()) == len(shape_gdf.groupby([\"LOC_ID\", \"AVG_SLOPE\", \"SLOPE_15\", \"AVG_RESTRI\", \"AVG_SAND\", \"AVG_CLAY\"]))\n",
    "\n",
    "shape_gdf.drop_duplicates(subset = ['LOC_ID'], inplace = True)\n",
    "\n",
    "assert len(shape_gdf) == 1557088 # confirm num of observations"
   ]
  },
  {
   "cell_type": "code",
   "execution_count": 6,
   "id": "42b8d66a-75a2-4920-9a08-0f6f520524e4",
   "metadata": {
    "execution": {
     "iopub.execute_input": "2022-09-27T15:32:00.391952Z",
     "iopub.status.busy": "2022-09-27T15:32:00.391727Z",
     "iopub.status.idle": "2022-09-27T15:34:35.391254Z",
     "shell.execute_reply": "2022-09-27T15:34:35.390378Z",
     "shell.execute_reply.started": "2022-09-27T15:32:00.391932Z"
    },
    "tags": []
   },
   "outputs": [],
   "source": [
    "# spatial join addresses within polygons\n",
    "matches_gdf = gpd.sjoin(data_gdf , shape_gdf, how=\"left\", op = \"within\")\n",
    "\n",
    "assert len(matches_gdf) == 821397 # check before duplicates drop\n",
    "\n",
    "# drop duplicate matches, keep largest total area\n",
    "matches_gdf = matches_gdf.sort_values(\"total_area\").drop_duplicates(subset = \"prop_id\", keep = \"last\")\n",
    "\n",
    "assert len(matches_gdf) == 821237 # check after duplicates drop"
   ]
  },
  {
   "cell_type": "code",
   "execution_count": 7,
   "id": "7f030367-f8d8-4bb7-b3b0-7ce0f11560d7",
   "metadata": {
    "execution": {
     "iopub.execute_input": "2022-09-27T15:34:35.392446Z",
     "iopub.status.busy": "2022-09-27T15:34:35.392237Z",
     "iopub.status.idle": "2022-09-27T15:34:44.511176Z",
     "shell.execute_reply": "2022-09-27T15:34:44.510646Z",
     "shell.execute_reply.started": "2022-09-27T15:34:35.392427Z"
    },
    "tags": []
   },
   "outputs": [
    {
     "name": "stdout",
     "output_type": "stream",
     "text": [
      "Done! 821,237 observations written\n"
     ]
    }
   ],
   "source": [
    "## export as .csv\n",
    "# set paths\n",
    "save_path = \"/home/a1nfc04/Documents/boston_zoning_sdrive/data/shapefiles/soil_quality/soil_quality_matches.dta\"\n",
    "log_path = \"/home/a1nfc04/Documents/boston_zoning_sdrive/python_programs/soil_quality_data/soil_quality_matches_log.txt\"\n",
    "\n",
    "# trim down variables and deep copy\n",
    "save_gdf = matches_gdf[\n",
    "    [\"prop_id\", \"cousub_name\", \"warren_latitude\", \"warren_longitude\", \n",
    "     \"LOC_ID\", \"AVG_SLOPE\", \"SLOPE_15\", \"AVG_RESTRI\", \n",
    "     \"AVG_SAND\", \"AVG_CLAY\", \"total_area\"]].copy(deep = True)\n",
    "\n",
    "save_gdf.rename({\"LOC_ID\" : \"loc_id\", \"AVG_SLOPE\" : \"avg_slope\", \n",
    "                 \"SLOPE_15\" : \"slope_15\", \"AVG_RESTRI\" : \"avg_restri\",\n",
    "                 \"AVG_SAND\" : \"avg_sand\", \"AVG_CLAY\" : \"avg_clay\"}, axis = 1, inplace = True)\n",
    "\n",
    "# save .dta file to S drive location\n",
    "save_gdf.to_stata(save_path, write_index = False)\n",
    "\n",
    "# save a log .txt file to the S drive\n",
    "date = datetime.datetime.now().strftime('%D at %I:%M:%S %p')\n",
    "\n",
    "with open(log_path,'a') as file:\n",
    "    file.write(f\"Finish running on {date}: {len(save_gdf):,} observations written to '{save_path}'.\\n\")  \n",
    "\n",
    "# Done!\n",
    "print(f\"Done! {len(matches_gdf):,} observations written\")"
   ]
  },
  {
   "cell_type": "code",
   "execution_count": null,
   "id": "bb63c8ad-52fd-4307-a6c7-c9e4f6e0a237",
   "metadata": {},
   "outputs": [],
   "source": []
  }
 ],
 "metadata": {
  "kernelspec": {
   "display_name": "boston_zoning",
   "language": "python",
   "name": "boston_zoning"
  },
  "language_info": {
   "codemirror_mode": {
    "name": "ipython",
    "version": 3
   },
   "file_extension": ".py",
   "mimetype": "text/x-python",
   "name": "python",
   "nbconvert_exporter": "python",
   "pygments_lexer": "ipython3",
   "version": "3.8.3"
  }
 },
 "nbformat": 4,
 "nbformat_minor": 5
}
