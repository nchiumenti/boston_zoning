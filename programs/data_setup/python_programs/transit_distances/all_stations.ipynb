{
 "cells": [
  {
   "cell_type": "code",
   "execution_count": 1,
   "metadata": {
    "execution": {
     "iopub.execute_input": "2022-09-29T15:34:27.289646Z",
     "iopub.status.busy": "2022-09-29T15:34:27.289322Z",
     "iopub.status.idle": "2022-09-29T15:34:27.292484Z",
     "shell.execute_reply": "2022-09-29T15:34:27.292028Z",
     "shell.execute_reply.started": "2022-09-29T15:34:27.289594Z"
    },
    "tags": []
   },
   "outputs": [],
   "source": [
    "################################################################################\n",
    "# File name:    \"all_stations.ipynb\"\n",
    "#\n",
    "# Project title:    Boston Affordable Housing project (visting scholar porject)\n",
    "#\n",
    "# Description:    This file compiles the commuter rail stations and the mbta\n",
    "#                 rapid transit stations into one file to be used in calculating\n",
    "#                 the distance to downtown measure in rd_amenties.do\n",
    "#\n",
    "# Inputs:    ./TRAINS_NODE.shp\n",
    "#            ./MBTA_NODE.shp\n",
    "#\n",
    "# Outputs:    ./all_stations.csv\n",
    "#\n",
    "# Created:    06/01/2022\n",
    "# Updated:    09/29/2022\n",
    "#\n",
    "# Author:    Nicholas Chiumenti\n",
    "################################################################################"
   ]
  },
  {
   "cell_type": "code",
   "execution_count": 2,
   "metadata": {
    "execution": {
     "iopub.execute_input": "2022-09-29T15:34:27.293477Z",
     "iopub.status.busy": "2022-09-29T15:34:27.293262Z",
     "iopub.status.idle": "2022-09-29T15:34:27.800355Z",
     "shell.execute_reply": "2022-09-29T15:34:27.799819Z",
     "shell.execute_reply.started": "2022-09-29T15:34:27.293461Z"
    },
    "id": "o2-3zs1rwtO5",
    "tags": []
   },
   "outputs": [],
   "source": [
    "import datetime\n",
    "import pandas as pd\n",
    "import geopandas as gpd"
   ]
  },
  {
   "cell_type": "markdown",
   "metadata": {},
   "source": [
    "# Set paths for all inputs/outputs"
   ]
  },
  {
   "cell_type": "code",
   "execution_count": 3,
   "metadata": {
    "execution": {
     "iopub.execute_input": "2022-09-29T15:34:27.801530Z",
     "iopub.status.busy": "2022-09-29T15:34:27.801320Z",
     "iopub.status.idle": "2022-09-29T15:34:27.804546Z",
     "shell.execute_reply": "2022-09-29T15:34:27.804145Z",
     "shell.execute_reply.started": "2022-09-29T15:34:27.801509Z"
    },
    "tags": []
   },
   "outputs": [],
   "source": [
    "## set paths throughout program\n",
    "## CHANGE THESE TO ADJUST WHERE FILES ARE LOADED AND SAVED\n",
    "\n",
    "# commuter rail station shape file path\n",
    "trains_path = \"/home/a1nfc04/Documents/boston_zoning_sdrive/data/shapefiles/train_stops/trains/TRAINS_NODE.shp\"\n",
    "\n",
    "# mbta rapid transit shape file path\n",
    "mbta_path = \"/home/a1nfc04/Documents/boston_zoning_sdrive/data/shapefiles/train_stops/mbta_rapid_transit/MBTA_NODE.shp\"\n",
    "\n",
    "# save path\n",
    "save_path = \"/home/a1nfc04/Documents/boston_zoning_sdrive/data/shapefiles/train_stops/all_stations.csv\"\n",
    "\n",
    "# log path\n",
    "log_path = \"/home/a1nfc04/Documents/boston_zoning_sdrive/python_programs/transit_distances/all_stations_log.txt\"\n"
   ]
  },
  {
   "cell_type": "markdown",
   "metadata": {},
   "source": [
    "# Import train station stop data and append together"
   ]
  },
  {
   "cell_type": "code",
   "execution_count": 4,
   "metadata": {
    "execution": {
     "iopub.execute_input": "2022-09-29T15:34:27.805715Z",
     "iopub.status.busy": "2022-09-29T15:34:27.805550Z",
     "iopub.status.idle": "2022-09-29T15:34:27.950376Z",
     "shell.execute_reply": "2022-09-29T15:34:27.949791Z",
     "shell.execute_reply.started": "2022-09-29T15:34:27.805697Z"
    },
    "tags": []
   },
   "outputs": [],
   "source": [
    "## load commuter rail stops\n",
    "commuter_nodes = gpd.read_file(trains_path)\n",
    "\n",
    "# drop non-commuter rail observations and those outside of MA\n",
    "commuter_nodes = commuter_nodes[\n",
    "    (commuter_nodes[\"LINE_BRNCH\"].notnull()) \n",
    "    & (commuter_nodes[\"STATE\"] == \"MA\") \n",
    "    & (commuter_nodes[\"C_RAILSTAT\"] == \"Y\")\n",
    "    & (commuter_nodes[\"MAP_STA\"] == \"Y\")\n",
    "]\n",
    "\n",
    "# tag source file and line\n",
    "commuter_nodes[\"LAYER\"] = \"TRAIN_NODES\"\n",
    "commuter_nodes[\"LINE\"] = \"COMMUTER RAIL\"\n",
    "\n",
    "# error check\n",
    "commuter_nodes.crs == 26986\n",
    "\n",
    "## load mbta rapid transit\n",
    "mbta_nodes = gpd.read_file(mbta_path)\n",
    "\n",
    "# tage source file\n",
    "mbta_nodes[\"LAYER\"] = \"MBTA_NODES\"\n",
    "\n",
    "# error check\n",
    "mbta_nodes.crs == 26986\n",
    "\n",
    "## append commuter rail stations to mbta stations\n",
    "stations_gdf = pd.concat([commuter_nodes, mbta_nodes], ignore_index = True)\n",
    "\n",
    "# convert the crs to epsg:4269 (lat lon coords)\n",
    "stations_gdf.to_crs(\"EPSG:4269\", inplace=True)\n",
    "\n",
    "stations_gdf[\"STATION_LAT\"] = stations_gdf.geometry.y\n",
    "stations_gdf[\"STATION_LON\"] = stations_gdf.geometry.x\n",
    "\n",
    "stations_gdf[\"STATION_ID\"] = stations_gdf.index\n",
    "\n",
    "stations_gdf = stations_gdf[[\"STATION_ID\", \"STATION\", \"LINE\", \"LAYER\", \"STATION_LAT\", \"STATION_LON\", \"geometry\"]]\n",
    "\n",
    "stations_gdf.columns = [\"station_id\", \"station_name\", \"line\", \"layer\", \"station_lat\", \"station_lon\", \"geometry\"]\n",
    "\n",
    "# error checking\n",
    "assert stations_gdf.crs == 4269\n",
    "assert len(stations_gdf) == 303 # check number of stations\n",
    "assert len(stations_gdf['station_id'].unique()) == 303\n",
    "\n",
    "# save file\n",
    "stations_gdf.to_csv(save_path, index = False)"
   ]
  },
  {
   "cell_type": "code",
   "execution_count": 5,
   "metadata": {
    "execution": {
     "iopub.execute_input": "2022-09-29T15:34:27.951482Z",
     "iopub.status.busy": "2022-09-29T15:34:27.951270Z",
     "iopub.status.idle": "2022-09-29T15:34:27.958242Z",
     "shell.execute_reply": "2022-09-29T15:34:27.957811Z",
     "shell.execute_reply.started": "2022-09-29T15:34:27.951462Z"
    },
    "tags": []
   },
   "outputs": [
    {
     "name": "stdout",
     "output_type": "stream",
     "text": [
      "Done! 303 observations written\n"
     ]
    }
   ],
   "source": [
    "# save a log .txt file\n",
    "date = datetime.datetime.now().strftime('%D at %I:%M:%S %p')\n",
    "\n",
    "with open(log_path,'a') as file:\n",
    "    file.write(f\"Finish running on {date}: {len(stations_gdf):,} observations written to '{save_path}'.\\n\")  \n",
    "\n",
    "# Done!\n",
    "print(f\"Done! {len(stations_gdf):,} observations written\")"
   ]
  }
 ],
 "metadata": {
  "colab": {
   "collapsed_sections": [],
   "name": "Boston_Distance_Manhattan.ipynb",
   "provenance": []
  },
  "gpuClass": "standard",
  "kernelspec": {
   "display_name": "boston_zoning",
   "language": "python",
   "name": "boston_zoning"
  },
  "language_info": {
   "codemirror_mode": {
    "name": "ipython",
    "version": 3
   },
   "file_extension": ".py",
   "mimetype": "text/x-python",
   "name": "python",
   "nbconvert_exporter": "python",
   "pygments_lexer": "ipython3",
   "version": "3.8.3"
  }
 },
 "nbformat": 4,
 "nbformat_minor": 4
}
