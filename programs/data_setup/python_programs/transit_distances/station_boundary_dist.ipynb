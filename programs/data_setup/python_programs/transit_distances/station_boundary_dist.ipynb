{
 "cells": [
  {
   "cell_type": "code",
   "execution_count": 1,
   "id": "e5aa65c6-ecc5-47ca-84d6-ea25c4d7b2fd",
   "metadata": {
    "execution": {
     "iopub.execute_input": "2022-10-05T20:45:16.254469Z",
     "iopub.status.busy": "2022-10-05T20:45:16.254128Z",
     "iopub.status.idle": "2022-10-05T20:45:16.257541Z",
     "shell.execute_reply": "2022-10-05T20:45:16.257110Z",
     "shell.execute_reply.started": "2022-10-05T20:45:16.254410Z"
    }
   },
   "outputs": [],
   "source": [
    "################################################################################\n",
    "# File name:    \"station_boundary_dist.ipynb\"\n",
    "#\n",
    "# Project title:    Boston Affordable Housing project (visting scholar porject)\n",
    "#\n",
    "# Description:    \n",
    "#\n",
    "# Inputs:    ./all_stations.csv\n",
    "#            ./adm3_latlong.shp\n",
    "#\n",
    "# Outputs:    ./station_boundary_dist.csv\n",
    "#             ./station_boundary_dist_log.txt\n",
    "#\n",
    "# Created:    10/05/2022\n",
    "# Updated:    10/05/2022\n",
    "#\n",
    "# Author:    Nicholas Chiumenti\n",
    "################################################################################"
   ]
  },
  {
   "cell_type": "code",
   "execution_count": 10,
   "id": "bdf73094-9554-4a82-8b41-9210ae2a85a1",
   "metadata": {
    "execution": {
     "iopub.execute_input": "2022-10-05T20:47:53.696923Z",
     "iopub.status.busy": "2022-10-05T20:47:53.696543Z",
     "iopub.status.idle": "2022-10-05T20:47:53.700099Z",
     "shell.execute_reply": "2022-10-05T20:47:53.699513Z",
     "shell.execute_reply.started": "2022-10-05T20:47:53.696903Z"
    },
    "tags": []
   },
   "outputs": [],
   "source": [
    "from datetime import datetime\n",
    "import pandas as pd\n",
    "import geopandas as gpd"
   ]
  },
  {
   "cell_type": "code",
   "execution_count": 3,
   "id": "46f79798-48ff-440a-b473-2b43a81e118d",
   "metadata": {
    "execution": {
     "iopub.execute_input": "2022-10-05T20:45:17.059561Z",
     "iopub.status.busy": "2022-10-05T20:45:17.059347Z",
     "iopub.status.idle": "2022-10-05T20:45:20.375928Z",
     "shell.execute_reply": "2022-10-05T20:45:20.375432Z",
     "shell.execute_reply.started": "2022-10-05T20:45:17.059541Z"
    },
    "tags": []
   },
   "outputs": [],
   "source": [
    "stations_path = \"/home/a1nfc04/Documents/boston_zoning_sdrive/data/shapefiles/train_stops/all_stations.csv\"\n",
    "boundary_path = \"/home/a1nfc04/local_to_aws/Python_Projects/closest_boundary_py/boundary_shapefiles/adm3_latlong.shp\"\n",
    "\n",
    "# train stations file\n",
    "stations_df = pd.read_csv(stations_path)\n",
    "stations_df.drop(columns = \"geometry\", inplace = True)\n",
    "stations_gdf = gpd.GeoDataFrame(stations_df,\n",
    "                                geometry = gpd.points_from_xy(stations_df['station_lon'], stations_df['station_lat'],\n",
    "                                                              crs = \"EPSG:4269\")\n",
    "                               )\n",
    "stations_gdf.to_crs(\"EPSG:26986\", inplace=True)\n",
    "\n",
    "# boundaries file\n",
    "boundary_gdf = gpd.read_file(boundary_path)\n",
    "boundary_gdf.to_crs(\"EPSG:26986\", inplace=True)\n",
    "boundary_gdf = boundary_gdf[[\"LEFT_FID\", \"RIGHT_FID\", \"zo_usety\", \"municipal\", \"ncessch\", \"geometry\"]]\n",
    "boundary_gdf[\"boundary_using_id\"] = boundary_gdf.index\n",
    "\n",
    "assert stations_gdf.crs == boundary_gdf.crs"
   ]
  },
  {
   "cell_type": "markdown",
   "id": "4ab75f3a-cfc5-4005-bd21-f21da700647c",
   "metadata": {},
   "source": [
    "# distance between stations and boundaries"
   ]
  },
  {
   "cell_type": "code",
   "execution_count": 4,
   "id": "1fcee42d-19bd-4029-a73d-4d839dca72b6",
   "metadata": {
    "execution": {
     "iopub.execute_input": "2022-10-05T20:45:20.376924Z",
     "iopub.status.busy": "2022-10-05T20:45:20.376715Z",
     "iopub.status.idle": "2022-10-05T20:45:22.466520Z",
     "shell.execute_reply": "2022-10-05T20:45:22.466054Z",
     "shell.execute_reply.started": "2022-10-05T20:45:20.376906Z"
    },
    "tags": []
   },
   "outputs": [],
   "source": [
    "# merge stations and boundaries\n",
    "gdf_1 = stations_gdf\n",
    "gdf_2 = boundary_gdf\n",
    "\n",
    "gdf_3 = pd.merge(gdf_1, gdf_2, how = \"cross\")\n",
    "\n",
    "assert len(gdf_3) == 10953753"
   ]
  },
  {
   "cell_type": "code",
   "execution_count": 5,
   "id": "dd688a95-c3c6-4932-8e6c-8cbf9d3e05e9",
   "metadata": {
    "execution": {
     "iopub.execute_input": "2022-10-05T20:45:22.468007Z",
     "iopub.status.busy": "2022-10-05T20:45:22.467704Z",
     "iopub.status.idle": "2022-10-05T20:46:26.197637Z",
     "shell.execute_reply": "2022-10-05T20:46:26.196666Z",
     "shell.execute_reply.started": "2022-10-05T20:45:22.467985Z"
    },
    "tags": []
   },
   "outputs": [
    {
     "name": "stdout",
     "output_type": "stream",
     "text": [
      "CPU times: user 1min 2s, sys: 1.72 s, total: 1min 3s\n",
      "Wall time: 1min 3s\n"
     ]
    }
   ],
   "source": [
    "%%time\n",
    "\n",
    "# calc distance in meters to boundary\n",
    "gdf_3[\"dist_meters\"] = gdf_3[\"geometry_x\"].distance(gdf_3[\"geometry_y\"])\n",
    "\n",
    "# convert to miles\n",
    "gdf_3[\"dist_miles\"] = gdf_3[\"dist_meters\"] * (1/1609.344)\n",
    "\n",
    "# drop obs > .5 miles away\n",
    "gdf_4 = gdf_3[(gdf_3[\"dist_miles\"] <= .5)]"
   ]
  },
  {
   "cell_type": "code",
   "execution_count": 11,
   "id": "1cdb5a6c-4107-47b9-9cf5-0c4bb87a9773",
   "metadata": {
    "execution": {
     "iopub.execute_input": "2022-10-05T20:47:55.904271Z",
     "iopub.status.busy": "2022-10-05T20:47:55.903918Z",
     "iopub.status.idle": "2022-10-05T20:47:57.337816Z",
     "shell.execute_reply": "2022-10-05T20:47:57.337142Z",
     "shell.execute_reply.started": "2022-10-05T20:47:55.904251Z"
    },
    "tags": []
   },
   "outputs": [
    {
     "name": "stdout",
     "output_type": "stream",
     "text": [
      "Done! 31,778 observations written\n"
     ]
    }
   ],
   "source": [
    "# create log and save date stamps\n",
    "save_date = datetime.now().strftime(\"%C%y_%m_%d\")\n",
    "log_date = datetime.now().strftime('%D at %I:%M:%S %p')\n",
    "\n",
    "# set log and save paths\n",
    "save_path = \"/home/a1nfc04/Documents/boston_zoning_sdrive/data/shapefiles/train_stops/station_boundary_dist.csv\"\n",
    "log_path = \"/home/a1nfc04/Documents/boston_zoning_sdrive/python_programs/transit_distances/station_boundary_dist_log.txt\"\n",
    "\n",
    "# save dataset as .csv\n",
    "save_df = gdf_4\n",
    "save_df.to_csv(save_path, index = False)\n",
    "\n",
    "# write to log\n",
    "with open(log_path,'a') as file:\n",
    "    file.write(f\"Finish running on {log_date}: {len(save_df):,} observations written to '{save_path}'.\\n\")\n",
    "\n",
    "# Done!\n",
    "print(f\"Done! {len(save_df):,} observations written\")"
   ]
  },
  {
   "cell_type": "code",
   "execution_count": null,
   "id": "ad161c3e-ac29-4bfb-9ca6-519f19bb3b45",
   "metadata": {},
   "outputs": [],
   "source": []
  }
 ],
 "metadata": {
  "kernelspec": {
   "display_name": "boston_zoning",
   "language": "python",
   "name": "boston_zoning"
  },
  "language_info": {
   "codemirror_mode": {
    "name": "ipython",
    "version": 3
   },
   "file_extension": ".py",
   "mimetype": "text/x-python",
   "name": "python",
   "nbconvert_exporter": "python",
   "pygments_lexer": "ipython3",
   "version": "3.8.3"
  }
 },
 "nbformat": 4,
 "nbformat_minor": 5
}
