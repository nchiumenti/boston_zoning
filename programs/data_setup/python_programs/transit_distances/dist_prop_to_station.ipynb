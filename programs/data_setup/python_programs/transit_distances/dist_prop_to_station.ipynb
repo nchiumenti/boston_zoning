{
 "cells": [
  {
   "cell_type": "code",
   "execution_count": 1,
   "metadata": {
    "execution": {
     "iopub.execute_input": "2022-09-29T17:23:38.264523Z",
     "iopub.status.busy": "2022-09-29T17:23:38.264201Z",
     "iopub.status.idle": "2022-09-29T17:23:38.267161Z",
     "shell.execute_reply": "2022-09-29T17:23:38.266766Z",
     "shell.execute_reply.started": "2022-09-29T17:23:38.264473Z"
    },
    "tags": []
   },
   "outputs": [],
   "source": [
    "################################################################################\n",
    "# File name:    \"dist_prop_to_station.ipynb\"\n",
    "#\n",
    "# Project title:    Boston Affordable Housing project (visting scholar porject)\n",
    "#\n",
    "# Description:    This file calculates the distance from a property to its \n",
    "#                 closest train stop in manhattan and euclidean distance. \n",
    "#                 The output is used in the rd_amenities.do file.\n",
    "#\n",
    "# Inputs:    ./all_stations.csv\n",
    "#            ./warren_MAPC_all_unqiue.dta\n",
    "#\n",
    "# Outputs:    ./transit_distance.csv\n",
    "#             ./dist_prop_to_station_log.txt\n",
    "#\n",
    "# Created:    06/01/2022\n",
    "# Updated:    09/29/2022\n",
    "#\n",
    "# Author:    Nicholas Chiumenti\n",
    "################################################################################"
   ]
  },
  {
   "cell_type": "code",
   "execution_count": 2,
   "metadata": {
    "execution": {
     "iopub.execute_input": "2022-09-29T17:23:38.268181Z",
     "iopub.status.busy": "2022-09-29T17:23:38.268023Z",
     "iopub.status.idle": "2022-09-29T17:23:39.070641Z",
     "shell.execute_reply": "2022-09-29T17:23:39.069189Z",
     "shell.execute_reply.started": "2022-09-29T17:23:38.268166Z"
    },
    "id": "o2-3zs1rwtO5",
    "tags": []
   },
   "outputs": [],
   "source": [
    "import datetime\n",
    "import pandas as pd\n",
    "import geopandas as gpd\n",
    "import numpy as np\n",
    "from scipy.spatial import cKDTree\n",
    "from shapely.geometry import Point\n",
    "from math import radians, sin, asin, sqrt, atan2"
   ]
  },
  {
   "cell_type": "markdown",
   "metadata": {},
   "source": [
    "# Set paths for all inputs/outputs"
   ]
  },
  {
   "cell_type": "code",
   "execution_count": 13,
   "metadata": {
    "execution": {
     "iopub.execute_input": "2022-09-29T17:48:32.247263Z",
     "iopub.status.busy": "2022-09-29T17:48:32.246956Z",
     "iopub.status.idle": "2022-09-29T17:48:32.250381Z",
     "shell.execute_reply": "2022-09-29T17:48:32.249921Z",
     "shell.execute_reply.started": "2022-09-29T17:48:32.247241Z"
    },
    "tags": []
   },
   "outputs": [],
   "source": [
    "## set paths throughout program\n",
    "## CHANGE THESE TO ADJUST WHERE FILES ARE LOADED AND SAVED\n",
    "\n",
    "# stations file path\n",
    "stations_path = \"/home/a1nfc04/Documents/boston_zoning_sdrive/data/shapefiles/train_stops/all_stations.csv\"\n",
    "\n",
    "# warren group properties data file path\n",
    "warren_path = \"/home/a1nfc04/Documents/boston_zoning_sdrive/data/warren/warren_MAPC_all_unique.dta\"\n",
    "\n",
    "# save path\n",
    "save_path = \"/home/a1nfc04/Documents/boston_zoning_sdrive/data/shapefiles/train_stops/transit_distance.csv\"\n",
    "\n",
    "# log path\n",
    "log_path = \"/home/a1nfc04/Documents/boston_zoning_sdrive/python_programs/transit_distances/dist_prop_to_station_log.txt\""
   ]
  },
  {
   "cell_type": "markdown",
   "metadata": {},
   "source": [
    "# Load in stations data"
   ]
  },
  {
   "cell_type": "code",
   "execution_count": 4,
   "metadata": {
    "execution": {
     "iopub.execute_input": "2022-09-29T17:23:39.078154Z",
     "iopub.status.busy": "2022-09-29T17:23:39.077817Z",
     "iopub.status.idle": "2022-09-29T17:23:39.145589Z",
     "shell.execute_reply": "2022-09-29T17:23:39.144830Z",
     "shell.execute_reply.started": "2022-09-29T17:23:39.078137Z"
    },
    "tags": []
   },
   "outputs": [],
   "source": [
    "# load in stations data\n",
    "stations_df = pd.read_csv(stations_path)\n",
    "\n",
    "# drop geometry variable\n",
    "stations_df.drop(columns = [\"geometry\"], inplace = True)\n",
    "\n",
    "# convert to geo data frame\n",
    "stations_gdf = gpd.GeoDataFrame(stations_df,\n",
    "                                geometry = gpd.points_from_xy(stations_df['station_lon'], stations_df['station_lat'], crs = \"EPSG:4269\")\n",
    "                               )\n",
    "\n",
    "stations_gdf.rename_geometry('station_geometry', inplace = True)\n",
    "\n",
    "# re-project\n",
    "stations_gdf.to_crs(\"EPSG:26986\", inplace=True)\n",
    "\n",
    "# error check\n",
    "assert len(stations_gdf) == 303"
   ]
  },
  {
   "cell_type": "markdown",
   "metadata": {},
   "source": [
    "# Load in the warren group"
   ]
  },
  {
   "cell_type": "code",
   "execution_count": 5,
   "metadata": {
    "execution": {
     "iopub.execute_input": "2022-09-29T17:23:39.147736Z",
     "iopub.status.busy": "2022-09-29T17:23:39.147331Z",
     "iopub.status.idle": "2022-09-29T17:24:39.787403Z",
     "shell.execute_reply": "2022-09-29T17:24:39.786507Z",
     "shell.execute_reply.started": "2022-09-29T17:23:39.147717Z"
    },
    "tags": []
   },
   "outputs": [],
   "source": [
    "# load in warren group data, trim variables\n",
    "warren_df = pd.read_stata(warren_path)\n",
    "warren_df = warren_df[[\"prop_id\", \"cousub_name\", \"warren_latitude\", \"warren_longitude\"]]\n",
    "\n",
    "# convert to a geo dataframe\n",
    "warren_gdf = gpd.GeoDataFrame(warren_df, \n",
    "                            geometry = gpd.points_from_xy(warren_df['warren_longitude'], warren_df['warren_latitude'], crs = \"EPSG:4269\")\n",
    "                   \n",
    "                           )\n",
    "\n",
    "warren_gdf.rename_geometry('warren_geometry', inplace = True)\n",
    "\n",
    "warren_gdf.to_crs(\"EPSG:26986\", inplace=True)\n",
    "\n",
    "# error checking\n",
    "assert len(warren_gdf) == 821237 # check warren group data"
   ]
  },
  {
   "cell_type": "markdown",
   "metadata": {},
   "source": [
    "# Calculate the nearest neighbor\n",
    "## get nearest neighbors using Ju-Eun's code"
   ]
  },
  {
   "cell_type": "code",
   "execution_count": 6,
   "metadata": {
    "execution": {
     "iopub.execute_input": "2022-09-29T17:24:39.788627Z",
     "iopub.status.busy": "2022-09-29T17:24:39.788393Z",
     "iopub.status.idle": "2022-09-29T17:24:51.723667Z",
     "shell.execute_reply": "2022-09-29T17:24:51.722909Z",
     "shell.execute_reply.started": "2022-09-29T17:24:39.788609Z"
    },
    "tags": []
   },
   "outputs": [],
   "source": [
    "gdfA = warren_gdf\n",
    "gdfB = stations_gdf\n",
    "\n",
    "nA = np.array(list(gdfA.warren_geometry.apply(lambda x: (x.x, x.y))))\n",
    "\n",
    "nB = np.array(list(gdfB.station_geometry.apply(lambda x: (x.x, x.y))))\n",
    "\n",
    "btree = cKDTree(nB)\n",
    "\n",
    "# find the nearest neighbor between address points and train stops\n",
    "dist, idx = btree.query(nA, k=1)\n",
    "\n",
    "# nearest neighbor for each proeprty\n",
    "gdfB_nearest = gdfB.iloc[idx].reset_index(drop=True)\n",
    "\n",
    "assert len(gdfB_nearest) == 821237 # check results\n",
    "\n",
    "# merge back with the warren group dataset\n",
    "gdf = pd.concat([gdfA.reset_index(drop=True), gdfB_nearest, pd.Series(dist, name='dist')], axis=1)\n",
    "\n",
    "final_data = gdf.copy()\n",
    "\n",
    "final_data['Index'] = final_data.index"
   ]
  },
  {
   "cell_type": "markdown",
   "metadata": {},
   "source": [
    "# Calculate manhattan distance"
   ]
  },
  {
   "cell_type": "code",
   "execution_count": 7,
   "metadata": {
    "execution": {
     "iopub.execute_input": "2022-09-29T17:24:51.725064Z",
     "iopub.status.busy": "2022-09-29T17:24:51.724807Z",
     "iopub.status.idle": "2022-09-29T17:29:20.909440Z",
     "shell.execute_reply": "2022-09-29T17:29:20.908905Z",
     "shell.execute_reply.started": "2022-09-29T17:24:51.725042Z"
    },
    "tags": []
   },
   "outputs": [],
   "source": [
    "## calculating manhattan distance (Ju-Eun's code)\n",
    "dist_array = []\n",
    "\n",
    "for i , r in final_data.iterrows():\n",
    "    # degrees to radians\n",
    "    lat1, lon1, lat2, lon2 = map(radians, r[[\"warren_latitude\", \"warren_longitude\", \"station_lat\", \"station_lon\"]])\n",
    "\n",
    "    # Latitude\n",
    "    dlat = lat2 - lat1\n",
    "    a = sin(dlat / 2) ** 2\n",
    "    c = 2 * atan2(sqrt(a), sqrt(1-a))\n",
    "    lat_d = c * 6371\n",
    "\n",
    "    # Longitude\n",
    "    dlon = lon2 - lon1\n",
    "    a = sin(dlon / 2) ** 2\n",
    "    c = 2 * atan2(sqrt(a), sqrt(1-a))\n",
    "    lon_d = c * 6371\n",
    "\n",
    "    dist_array.append((i, (lat_d + lon_d)*1000))\n",
    "\n",
    "    # print(dist_array)"
   ]
  },
  {
   "cell_type": "code",
   "execution_count": 8,
   "metadata": {
    "colab": {
     "base_uri": "https://localhost:8080/",
     "height": 419
    },
    "execution": {
     "iopub.execute_input": "2022-09-29T17:29:20.910670Z",
     "iopub.status.busy": "2022-09-29T17:29:20.910368Z",
     "iopub.status.idle": "2022-09-29T17:29:21.702006Z",
     "shell.execute_reply": "2022-09-29T17:29:21.701491Z",
     "shell.execute_reply.started": "2022-09-29T17:29:20.910649Z"
    },
    "id": "ymW0gKo8drF7",
    "outputId": "16d7feb3-f5b8-40da-d0d0-9a953c96d2e3",
    "tags": []
   },
   "outputs": [],
   "source": [
    "# export manhattan distance calculations\n",
    "Manhattan_haversine_distance = pd.DataFrame(dist_array,columns=[\"origin\", \"distance(m)\"])\n",
    "\n",
    "Manhattan_haversine_distance[\"Index\"] = Manhattan_haversine_distance[\"origin\"] \n",
    "\n",
    "Manhattan_haversine_distance = pd.merge(Manhattan_haversine_distance, final_data, on=\"Index\")\n",
    "\n",
    "Manhattan_haversine_distance = Manhattan_haversine_distance[[\"prop_id\", \"cousub_name\", \"warren_latitude\", \"warren_longitude\",\n",
    "                                                             \"station_id\", \"station_name\", \"station_lat\", \"station_lon\",\"distance(m)\"]]\n",
    "\n",
    "Manhattan_haversine_distance.rename(columns = {\"distance(m)\":\"distance_m_man\"}, inplace = True)\n",
    "# Manhattan_haversine_distance.to_stata(\"/home/a1nfc04/boston_zoning_sdrive/data/shapefiles/train_stops/transit_distances_manhattan.dta\")"
   ]
  },
  {
   "cell_type": "markdown",
   "metadata": {
    "execution": {
     "iopub.execute_input": "2022-09-29T16:45:42.052256Z",
     "iopub.status.busy": "2022-09-29T16:45:42.051783Z",
     "iopub.status.idle": "2022-09-29T16:45:42.055534Z",
     "shell.execute_reply": "2022-09-29T16:45:42.054998Z",
     "shell.execute_reply.started": "2022-09-29T16:45:42.052231Z"
    }
   },
   "source": [
    "# Calculate euclidian distance"
   ]
  },
  {
   "cell_type": "code",
   "execution_count": 9,
   "metadata": {
    "execution": {
     "iopub.execute_input": "2022-09-29T17:29:21.703130Z",
     "iopub.status.busy": "2022-09-29T17:29:21.702853Z",
     "iopub.status.idle": "2022-09-29T17:33:51.769510Z",
     "shell.execute_reply": "2022-09-29T17:33:51.768804Z",
     "shell.execute_reply.started": "2022-09-29T17:29:21.703110Z"
    }
   },
   "outputs": [],
   "source": [
    "## calculate straight line euclidean distance (Ju-Eun's code)\n",
    "from math import radians, cos, sin, asin, sqrt\n",
    "\n",
    "# Euclidean distance between vectors\n",
    "dist_array_e = []\n",
    "for i , r in final_data.iterrows():\n",
    "    lon1, lat1, lon2, lat2 = map(radians, r[[\"warren_latitude\", \"warren_longitude\", \"station_lon\", \"station_lat\"]])\n",
    "\n",
    "    # haversine formula \n",
    "    dlon = lon2 - lon1 \n",
    "    dlat = lat2 - lat1 \n",
    "\n",
    "    a = sin(dlat/2)**2 + cos(lat1) * cos(lat2) * sin(dlon/2)**2\n",
    "    c = 2 * asin(sqrt(a)) \n",
    "\n",
    "    # Radius of earth in kilometers is 6371\n",
    "    km = 6371 * c\n",
    "\n",
    "    dist_array_e.append((i, (km)*1000))\n",
    "\n",
    "# print(dist_array_e)"
   ]
  },
  {
   "cell_type": "code",
   "execution_count": 10,
   "metadata": {
    "execution": {
     "iopub.execute_input": "2022-09-29T17:33:51.770969Z",
     "iopub.status.busy": "2022-09-29T17:33:51.770543Z",
     "iopub.status.idle": "2022-09-29T17:33:52.559151Z",
     "shell.execute_reply": "2022-09-29T17:33:52.558617Z",
     "shell.execute_reply.started": "2022-09-29T17:33:51.770948Z"
    },
    "tags": []
   },
   "outputs": [],
   "source": [
    "# export euclidean distance measures\n",
    "Euclidean_haversine_distance = pd.DataFrame(dist_array_e,columns=[\"origin\", \"distance(m)\"])\n",
    "\n",
    "Euclidean_haversine_distance[\"Index\"] = Euclidean_haversine_distance[\"origin\"] \n",
    "\n",
    "Euclidean_haversine_distance = pd.merge(Euclidean_haversine_distance, final_data, on=\"Index\")\n",
    "\n",
    "Euclidean_haversine_distance = Euclidean_haversine_distance[[\"prop_id\", \"cousub_name\", \"warren_latitude\", \"warren_longitude\",\n",
    "                                                             \"station_id\", \"station_name\", \"station_lat\", \"station_lon\",\"distance(m)\"]]\n",
    "\n",
    "Euclidean_haversine_distance.rename(columns = {\"distance(m)\":\"distance_m_euc\"}, inplace = True)\n",
    "\n",
    "# Euclidean_haversine_distance.to_csv(\"/home/a1nfc04/boston_zoning_sdrive/data/shapefiles/train_stops/transit_distances_euclid.csv\")"
   ]
  },
  {
   "cell_type": "code",
   "execution_count": 14,
   "metadata": {
    "execution": {
     "iopub.execute_input": "2022-09-29T17:48:40.225980Z",
     "iopub.status.busy": "2022-09-29T17:48:40.225559Z",
     "iopub.status.idle": "2022-09-29T17:48:46.263994Z",
     "shell.execute_reply": "2022-09-29T17:48:46.262857Z",
     "shell.execute_reply.started": "2022-09-29T17:48:40.225944Z"
    },
    "tags": []
   },
   "outputs": [],
   "source": [
    "merged_df = Euclidean_haversine_distance.merge(Manhattan_haversine_distance, left_index = True, right_index = True)\n",
    "\n",
    "merged_df = merged_df[[\"prop_id_x\", \"cousub_name_x\", \"warren_latitude_x\", \"warren_longitude_x\",\n",
    "                      \"station_id_x\", \"station_name_x\", \"station_lat_x\", \"station_lon_x\",\n",
    "                      \"distance_m_euc\", \"distance_m_man\"]]\n",
    "\n",
    "merged_df.columns = [\"prop_id\", \"cousub_name\", \"warren_latitude\", \"warren_longitude\",\n",
    "                      \"station_id\", \"station_name\", \"station_lat\", \"station_lon\",\n",
    "                      \"distance_m_euc\", \"distance_m_man\"]\n",
    "\n",
    "merged_df.to_csv(save_path, index = False)"
   ]
  },
  {
   "cell_type": "code",
   "execution_count": 15,
   "metadata": {
    "execution": {
     "iopub.execute_input": "2022-09-29T17:48:48.053031Z",
     "iopub.status.busy": "2022-09-29T17:48:48.052710Z",
     "iopub.status.idle": "2022-09-29T17:48:48.059334Z",
     "shell.execute_reply": "2022-09-29T17:48:48.058913Z",
     "shell.execute_reply.started": "2022-09-29T17:48:48.053004Z"
    },
    "tags": []
   },
   "outputs": [
    {
     "name": "stdout",
     "output_type": "stream",
     "text": [
      "Done! 821,237 observations written\n"
     ]
    }
   ],
   "source": [
    "# save a log .txt file to the S drive\n",
    "date = datetime.datetime.now().strftime('%D at %I:%M:%S %p')\n",
    "\n",
    "with open(log_path,'a') as file:\n",
    "    file.write(f\"Finish running on {date}: {len(merged_df):,} observations written to '{save_path}'.\\n\")  \n",
    "\n",
    "# Done!\n",
    "print(f\"Done! {len(merged_df):,} observations written\")"
   ]
  },
  {
   "cell_type": "code",
   "execution_count": null,
   "metadata": {},
   "outputs": [],
   "source": []
  }
 ],
 "metadata": {
  "colab": {
   "collapsed_sections": [],
   "name": "Boston_Distance_Manhattan.ipynb",
   "provenance": []
  },
  "gpuClass": "standard",
  "kernelspec": {
   "display_name": "boston_zoning",
   "language": "python",
   "name": "boston_zoning"
  },
  "language_info": {
   "codemirror_mode": {
    "name": "ipython",
    "version": 3
   },
   "file_extension": ".py",
   "mimetype": "text/x-python",
   "name": "python",
   "nbconvert_exporter": "python",
   "pygments_lexer": "ipython3",
   "version": "3.8.3"
  }
 },
 "nbformat": 4,
 "nbformat_minor": 4
}
